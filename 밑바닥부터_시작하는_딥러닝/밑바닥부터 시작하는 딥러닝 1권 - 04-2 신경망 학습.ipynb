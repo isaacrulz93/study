{
 "cells": [
  {
   "cell_type": "markdown",
   "metadata": {},
   "source": [
    "### 4.4.2 신경망에서의 기울기"
   ]
  },
  {
   "cell_type": "markdown",
   "metadata": {},
   "source": [
    "지금 우리가 이제 함수에서의 기울기에 대해 알아봤잖아, 이젠 정말 우리가 '신경망'을 다룰때의 기울기에 대해서 알아보자.<br>\n",
    "신경망에서 기울기란, 가중치에 대한 손실함수의 기울기를 의미하는거야.<br>\n",
    "\n",
    "예를들어, $2 \\times 3$ 의 가중치 $W$, 손실함수가 $L$인 경우를 봤을때, 이때의 경사는 \n",
    "<font size = '4em'>${{\\partial L}\\over{\\partial W}}$</font>로 나타낼 수 있어.<br>\n",
    "수식으로 쓰면 다음과 같아<br><br>\n",
    "\n",
    "<center>$W = \\begin{pmatrix} w_{11} & w_{12} & w_{13}  \\\\ w_{21} & w_{22} & w_{23} \\end{pmatrix}$</center>\n",
    "<br><br>\n",
    "\n",
    "<center>\n",
    "${{\\partial L}\\over{\\partial W}} = \\begin{pmatrix} {{\\partial L}\\over{\\partial w_{11}}} & {{\\partial L}\\over{\\partial w_{12}}} & {{\\partial L}\\over{\\partial w_{13}}}  \\\\ {{\\partial L}\\over{\\partial w_{21}}} & {{\\partial L}\\over{\\partial w_{22}}} & {{\\partial L}\\over{\\partial W_{23}}} \\end{pmatrix}$</center>"
   ]
  },
  {
   "cell_type": "markdown",
   "metadata": {},
   "source": [
    "여기서 ${{\\partial L}\\over{\\partial w_{11}}}$은 $w_{11}$을 조금 변경했을때 손실함수 $L$이 얼마나 변했냐를 나타내주는거야<br>\n",
    "둘이 형태가 같다는거에 주목해주면 좋을것 같아. 이게 실제로 신경망에서 어떻게 적용되나 한번 보자"
   ]
  },
  {
   "cell_type": "code",
   "execution_count": 47,
   "metadata": {},
   "outputs": [],
   "source": [
    "import numpy as np\n",
    "import matplotlib.pyplot as plt\n",
    "plt.style.use('seaborn-whitegrid')"
   ]
  },
  {
   "cell_type": "code",
   "execution_count": 48,
   "metadata": {},
   "outputs": [],
   "source": [
    "# 필요한 함수들\n",
    "def softmax(a):\n",
    "    c = np.max(a)\n",
    "    exp_a = np.exp(a-c)\n",
    "    sum_exp_a = np.sum(exp_a)\n",
    "    return exp_a / sum_exp_a\n",
    "\n",
    "def cross_entropy_error(y,t):\n",
    "    delta = 1e-4\n",
    "    return -np.dot(t,np.log(y + delta))\n",
    "\n",
    "def numerical_gradient_1d(f, x):\n",
    "    h = 1e-4 # 0.0001\n",
    "    grad = np.zeros_like(x)\n",
    "    \n",
    "    for idx in range(x.size):\n",
    "        tmp_val = x[idx]\n",
    "        x[idx] = float(tmp_val) + h\n",
    "        fxh1 = f(x) # f(x+h)\n",
    "        \n",
    "        x[idx] = tmp_val - h \n",
    "        fxh2 = f(x) # f(x-h)\n",
    "        grad[idx] = (fxh1 - fxh2) / (2*h)\n",
    "        \n",
    "        x[idx] = tmp_val # 값 복원\n",
    "       \n",
    "    return grad\n",
    "\n",
    "def numerical_gradient(f, X):\n",
    "    if X.ndim ==1:\n",
    "        return numerical_gradient_1d(f,X)\n",
    "    \n",
    "    else:\n",
    "        grad = np.zeros_like(X)\n",
    "        \n",
    "        for idx, x in enumerate(X):\n",
    "            grad[idx] = numerical_gradient_1d(f,x)\n",
    "            \n",
    "        return grad"
   ]
  },
  {
   "cell_type": "code",
   "execution_count": 3,
   "metadata": {},
   "outputs": [
    {
     "name": "stdout",
     "output_type": "stream",
     "text": [
      "0\n",
      "[1 2 3]\n",
      "1\n",
      "[4 5 6]\n"
     ]
    }
   ],
   "source": [
    "import numpy as np\n",
    "X = np.array([[1,2,3],[4,5,6]])\n",
    "for idx, x in enumerate(X):\n",
    "    print(idx)\n",
    "    print(x)"
   ]
  },
  {
   "cell_type": "code",
   "execution_count": 53,
   "metadata": {},
   "outputs": [],
   "source": [
    "class SimpleNet:\n",
    "    def __init__(self):\n",
    "        np.random.seed(1) #seed를 쓰면, random값이 고정된다\n",
    "        self.W = np.random.randn(2,3)\n",
    "        \n",
    "    def predict(self,x):\n",
    "        return np.dot(x,self.W)\n",
    "    \n",
    "    def loss(self,x,t):\n",
    "        z = self.predict(x)\n",
    "        y = softmax(z)\n",
    "        loss = cross_entropy_error(y,t)\n",
    "        return loss\n",
    "SimpleNet = SimpleNet()"
   ]
  },
  {
   "cell_type": "code",
   "execution_count": 54,
   "metadata": {},
   "outputs": [
    {
     "name": "stdout",
     "output_type": "stream",
     "text": [
      "[8 6 2 9 8]\n"
     ]
    }
   ],
   "source": [
    "np.random.seed(4)\n",
    "print(np.random.randint(1,10,5))"
   ]
  },
  {
   "cell_type": "markdown",
   "metadata": {},
   "source": [
    "SimpleNet을 설명하자면, 형상이 $2 \\times 3$인 가중치 $W$를 변수로 갖고,<br>\n",
    "predict(x)와 loss(x,t)라는 메서드를 가져.<br>\n",
    "x는 input, t는 정답레이블이야.<br>"
   ]
  },
  {
   "cell_type": "code",
   "execution_count": 55,
   "metadata": {},
   "outputs": [
    {
     "name": "stdout",
     "output_type": "stream",
     "text": [
      "그래서 만든 가중치가 어떻게 생겼는데? \n",
      " [[ 1.62434536 -0.61175641 -0.52817175]\n",
      " [-1.07296862  0.86540763 -2.3015387 ]]\n",
      "\n",
      "계산기엔 이 숫자를 집어 넣을거야 : [0.6 0.9]\n",
      "\n",
      "그 가중치로 예측한 값이 이거야 : [ 0.00893546  0.41181302 -2.38828788]\n",
      "이때 예측한 값중에 가장 큰 인덱스가 얘야 : 1\n",
      "\n",
      "정답은 이거야 : [0 0 1]\n",
      "이럴떄의 손실값은 : 3.344918677423258 가 나와\n"
     ]
    }
   ],
   "source": [
    "net = SimpleNet\n",
    "print('그래서 만든 가중치가 어떻게 생겼는데? \\n',net.W)\n",
    "print('')\n",
    "x = np.array([0.6,0.9])\n",
    "print('계산기엔 이 숫자를 집어 넣을거야 :',x)\n",
    "p = net.predict(x)\n",
    "print('')\n",
    "print('그 가중치로 예측한 값이 이거야 :',p)\n",
    "print('이때 예측한 값중에 가장 큰 인덱스가 얘야 :',np.argmax(p))\n",
    "print('')\n",
    "\n",
    "t = np.array([0,0,1])\n",
    "print('정답은 이거야 :',t)\n",
    "\n",
    "net.loss(x,t)\n",
    "print('이럴떄의 손실값은 :',net.loss(x,t),'가 나와')"
   ]
  },
  {
   "cell_type": "code",
   "execution_count": 7,
   "metadata": {},
   "outputs": [
    {
     "name": "stdout",
     "output_type": "stream",
     "text": [
      "생성한 가중치 W : \n",
      " [[ 1.62434536 -0.61175641 -0.52817175]\n",
      " [-1.07296862  0.86540763 -2.3015387 ]]\n",
      "\n",
      "예측한 p값 : [ 0.00893546  0.41181302 -2.38828788]\n",
      "최댓값의 인덱스 : 1\n",
      "\n",
      "이 네트워크의 손실값 : 3.344918677423258\n"
     ]
    }
   ],
   "source": [
    "net = SimpleNet()\n",
    "print('생성한 가중치 W : \\n',net.W)\n",
    "print('')\n",
    "\n",
    "x = np.array([0.6,0.9])\n",
    "p = net.predict(x)\n",
    "print('예측한 p값 :',p)\n",
    "print('최댓값의 인덱스 :',np.argmax(p))\n",
    "print('')\n",
    "t = np.array([0,0,1])\n",
    "print('이 네트워크의 손실값 :',net.loss(x,t))"
   ]
  },
  {
   "cell_type": "markdown",
   "metadata": {},
   "source": [
    "이제 기울기를 구해보자. 앞에서 썻던 numerical_gradient(f,x)를 쓸거야.<br>\n",
    "f(W)의 W는 지금 그냥 보여줄라고 임의로 만든 더미(가짜데이터)니까, 값에 너무 의미부여하지말고 그냥 어떻게 진행되나만 보자"
   ]
  },
  {
   "cell_type": "code",
   "execution_count": 8,
   "metadata": {},
   "outputs": [
    {
     "name": "stdout",
     "output_type": "stream",
     "text": [
      "[[ 0.23126277  0.34599771 -0.57726048]\n",
      " [ 0.34689416  0.51899657 -0.86589073]]\n"
     ]
    }
   ],
   "source": [
    "def f(W):\n",
    "    return net.loss(x,t)\n",
    "\n",
    "dW = numerical_gradient(f, net.W)\n",
    "print(dW)"
   ]
  },
  {
   "cell_type": "markdown",
   "metadata": {},
   "source": [
    "예를들여 $dW_{11}$을 보면, 0.2이라는 뜻은 $w_{11}$을 h만큼 늘리면 손실함수가 0.2h 만큼 증가한다는 뜻이야.<br>\n",
    "$dW_{13}$을 보면 -0.6 정도 되니까, $dW_{13}$를 h만큼 늘리면 손실함수가 0.6만큼 감소한다는 뜻이지.<br>\n",
    "<b>손실함수가 줄어들수록</b> 좋은거라고 했지?\n",
    "이럴땐, $dW_{11}$ 는 감소시키고, $dW_{13}$는 증가시키면 손실함수를 줄이면서 갱신할수있어!"
   ]
  },
  {
   "cell_type": "markdown",
   "metadata": {},
   "source": [
    "### 4.5 학습 알고리즘 구현"
   ]
  },
  {
   "cell_type": "markdown",
   "metadata": {},
   "source": [
    "제일처음에 우리가 퍼셉트론을 통해 논리게이트를 구현했었잖아.<br>\n",
    "이번엔 여태까지 배운 '학습'의 과정을 통해 논리게이트를 구현해볼꺼야!"
   ]
  },
  {
   "cell_type": "markdown",
   "metadata": {},
   "source": [
    "### 4.5.1 논리게이트 학습하기"
   ]
  },
  {
   "cell_type": "markdown",
   "metadata": {},
   "source": [
    "#### 사용할 함수들이야! 다 해본거야 겁먹지마!!!"
   ]
  },
  {
   "cell_type": "code",
   "execution_count": 9,
   "metadata": {},
   "outputs": [],
   "source": [
    "# 하이퍼파라미터 설정\n",
    "lr = 0.1\n",
    "epochs = 1000"
   ]
  },
  {
   "cell_type": "code",
   "execution_count": 10,
   "metadata": {},
   "outputs": [],
   "source": [
    "def sigmoid(x):\n",
    "    return 1 / (1+np.exp(-x))\n",
    "\n",
    "def sum_squared_error(pred_y, true_y):\n",
    "    return 0.5 * np.sum((pred_y - true_y)**2)\n",
    "\n",
    "def cross_entropy_error(pred_y, true_y):\n",
    "    \n",
    "    if true_y.ndim ==1:\n",
    "        true_y = true_y.reshape(1,-1)\n",
    "        pred_y = pred_y.reshape(1,-1)\n",
    "    \n",
    "    delta = 1e-7\n",
    "    return -np.sum(true_y * np.log(pred_y + delta))\n",
    "\n",
    "def cross_entropy_error_batch(pred_y, true_y):\n",
    "    if true_y.ndim ==1:\n",
    "        true_y = true_y.reshape(1,-1)\n",
    "        pred_y = pred_y.reshape(1,-1)\n",
    "        \n",
    "    delta = 1e-7\n",
    "    batch_size = pred_y.shape[0]\n",
    "    return -np.sum(true_y * np.log(pred_y + delta)) / batch_size\n",
    "\n",
    "def cross_entropy_error_for_bin(pred_y,true_y):\n",
    "    return 0.5 * np.sum((-true_y * np.log(pred_y) - (1 - true_y) * np.log(1-pred_y)))\n",
    "\n",
    "def softmax(a):\n",
    "    exp_a = np.exp(a)\n",
    "    sum_exp_a = np.sum(exp_a)\n",
    "    return exp_a / sum_exp_a\n",
    "\n",
    "def differential(f,x):\n",
    "    h = 1e-5\n",
    "    diff = np.zeros_like(x)\n",
    "    \n",
    "    for i in range(x.shape[0]):\n",
    "        temp_val = x[i]\n",
    "        \n",
    "        x[i] = temp_val + h\n",
    "        fxh1 = f(x)\n",
    "        \n",
    "        x[i] = temp_val - h\n",
    "        fxh2 = f(x)\n",
    "        \n",
    "        diff[i] = (fxh1 - fxh2) / (2*h)\n",
    "        x[i] = temp_val\n",
    "        \n",
    "    return diff"
   ]
  },
  {
   "cell_type": "code",
   "execution_count": 34,
   "metadata": {},
   "outputs": [
    {
     "data": {
      "text/plain": [
       "array([1.18495159, 0.93670217])"
      ]
     },
     "execution_count": 34,
     "metadata": {},
     "output_type": "execute_result"
    }
   ],
   "source": [
    "np.random.randn(2)"
   ]
  },
  {
   "cell_type": "markdown",
   "metadata": {},
   "source": [
    "#### 신경망 구현하기"
   ]
  },
  {
   "cell_type": "code",
   "execution_count": 41,
   "metadata": {},
   "outputs": [],
   "source": [
    "class LogicGate():\n",
    "    \n",
    "#     def __init__(self):\n",
    "#         def weight_init():      #초기 가중치 값을 만들어줄거야!\n",
    "#             np.random.seed(1)  # 시드를 고정시켜주면 랜덤값이 그 시드에 맞게 생성돼. 돌릴때마다 가중치값이 변하는걸 방지해줘.\n",
    "#             weights = np.random.randn(2) #표준정규분포의 난수 2개 생성\n",
    "#             bias = np.random.rand(1) # 0~1사이의 균일분포 난수 하나 생성\n",
    "            \n",
    "#             return weights,bias\n",
    "        \n",
    "#         self.weights, self.bias = weight_init()  #이 클래스의 가중치와 편향을 weight_init에서 생성된걸 쓸거야\n",
    "        \n",
    "        \n",
    "    def __init__(self):\n",
    "        np.random.seed(1)  # 시드를 고정시켜주면 랜덤값이 그 시드에 맞게 생성돼. 돌릴때마다 가중치값이 변하는걸 방지해줘.\n",
    "        self.weights = np.random.randn(2) #표준정규분포의 난수 2개 생성\n",
    "        self.bias = np.random.rand(1) # 0~1사이의 균일분포 난수 하나 생성 \n",
    "\n",
    "        \n",
    "    def predict(self,x):\n",
    "        W = self.weights.reshape(-1,1)\n",
    "        b = self.bias\n",
    "            \n",
    "        pred_y = sigmoid(np.dot(x,W) + b)\n",
    "        return pred_y\n",
    "        \n",
    "    def loss(self,x,true_y):\n",
    "        pred_y = self.predict(x)\n",
    "        return cross_entropy_error_for_bin(pred_y,true_y)\n",
    "        \n",
    "    def get_gradient(self,x,t):\n",
    "        def loss_grad(grad):\n",
    "            return self.loss(x,t)\n",
    "            \n",
    "        grad_W = differential(loss_grad, self.weights)\n",
    "        grad_b = differential(loss_grad, self.bias)\n",
    "            \n",
    "        return grad_W, grad_b"
   ]
  },
  {
   "cell_type": "markdown",
   "metadata": {},
   "source": [
    "### 4.5.1.1 AND 게이트 학습하기"
   ]
  },
  {
   "cell_type": "code",
   "execution_count": 42,
   "metadata": {},
   "outputs": [
    {
     "name": "stdout",
     "output_type": "stream",
     "text": [
      "Epochs : 100, Loss : 0.6886489498071491, Weights : [1.56426876 0.79168393], Bias : [-2.14871589]\n",
      "Epochs : 200, Loss : 0.4946368603064415, Weights : [2.01360719 1.71241131], Bias : [-3.07894028]\n",
      "Epochs : 300, Loss : 0.3920165980757418, Weights : [2.42841657 2.29753793], Bias : [-3.79103207]\n",
      "Epochs : 400, Loss : 0.3257214374791936, Weights : [2.794852   2.73235738], Bias : [-4.37257095]\n",
      "Epochs : 500, Loss : 0.27863601334755067, Weights : [3.11636193 3.08408364], Bias : [-4.86571237]\n",
      "Epochs : 600, Loss : 0.24328504683831248, Weights : [3.40015395 3.38235762], Bias : [-5.29433736]\n",
      "Epochs : 700, Loss : 0.21572536552468008, Weights : [3.65300561 3.64264217], Bias : [-5.67349792]\n",
      "Epochs : 800, Loss : 0.19363244428365756, Weights : [3.88044124 3.87412053], Bias : [-6.01340133]\n",
      "Epochs : 900, Loss : 0.1755321312790001, Weights : [4.08680123 4.08279091], Bias : [-6.32133891]\n",
      "Epochs : 1000, Loss : 0.1604392693330146, Weights : [4.27548114 4.27284863], Bias : [-6.6027234]\n"
     ]
    }
   ],
   "source": [
    "#AND게이트 정의\n",
    "AND = LogicGate()\n",
    "X = np.array([[0,0],[0,1],[1,0],[1,1]]) #AND게이트의 input\n",
    "Y1 = np.array([[0],[0],[0],[1]])        #AND게이트의 label, output, 정답\n",
    "\n",
    "train_loss_list1 = list() #빈 리스트 생성(기록을 보기 위함)\n",
    "\n",
    "for i in range(epochs):\n",
    "    grad_W,grad_b = AND.get_gradient(X, Y1)\n",
    "    \n",
    "    AND.weights -= lr*grad_W\n",
    "    AND.bias -= lr*grad_b\n",
    "    \n",
    "    loss = AND.loss(X,Y1)\n",
    "    train_loss_list1.append(loss)\n",
    "    \n",
    "    if i%100 ==99:\n",
    "        print('Epochs : {}, Loss : {}, Weights : {}, Bias : {}'.format(i+1, loss, AND.weights, AND.bias))"
   ]
  },
  {
   "cell_type": "code",
   "execution_count": 43,
   "metadata": {},
   "outputs": [
    {
     "data": {
      "text/plain": [
       "array([[0.00135483],\n",
       "       [0.08867878],\n",
       "       [0.08889176],\n",
       "       [0.87496677]])"
      ]
     },
     "execution_count": 43,
     "metadata": {},
     "output_type": "execute_result"
    }
   ],
   "source": [
    "AND.predict(X)"
   ]
  },
  {
   "cell_type": "markdown",
   "metadata": {},
   "source": [
    "오... AND 게이트를 학습시킨걸 볼 수 있어."
   ]
  },
  {
   "cell_type": "markdown",
   "metadata": {},
   "source": [
    "### 4.5.1.2 OR게이트"
   ]
  },
  {
   "cell_type": "code",
   "execution_count": 44,
   "metadata": {},
   "outputs": [
    {
     "name": "stdout",
     "output_type": "stream",
     "text": [
      "Epochs : 100, Cost : 0.49580923848195635, Weights : [4.27548114 4.27284863], Bias : [-6.6027234]\n",
      "Epochs : 200, Cost : 0.3398674231515118, Weights : [4.27548114 4.27284863], Bias : [-6.6027234]\n",
      "Epochs : 300, Cost : 0.2573360986187996, Weights : [4.27548114 4.27284863], Bias : [-6.6027234]\n",
      "Epochs : 400, Cost : 0.20630142190075948, Weights : [4.27548114 4.27284863], Bias : [-6.6027234]\n",
      "Epochs : 500, Cost : 0.1716549922113493, Weights : [4.27548114 4.27284863], Bias : [-6.6027234]\n",
      "Epochs : 600, Cost : 0.1466501884550824, Weights : [4.27548114 4.27284863], Bias : [-6.6027234]\n",
      "Epochs : 700, Cost : 0.12779768649454676, Weights : [4.27548114 4.27284863], Bias : [-6.6027234]\n",
      "Epochs : 800, Cost : 0.11310517185413338, Weights : [4.27548114 4.27284863], Bias : [-6.6027234]\n",
      "Epochs : 900, Cost : 0.10135180918376233, Weights : [4.27548114 4.27284863], Bias : [-6.6027234]\n",
      "Epochs : 1000, Cost : 0.09174843008614178, Weights : [4.27548114 4.27284863], Bias : [-6.6027234]\n"
     ]
    }
   ],
   "source": [
    "OR = LogicGate()\n",
    "X = np.array([[0,0],[0,1],[1,0],[1,1]])\n",
    "Y2 = np.array([[0],[1],[1],[1]])\n",
    "\n",
    "train_loss_list2 = list()\n",
    "\n",
    "for i in range(epochs):\n",
    "    grad_W, grad_b = OR.get_gradient(X,Y2)\n",
    "    \n",
    "    OR.weights -= lr * grad_W\n",
    "    OR.bias -= lr * grad_b\n",
    "    \n",
    "    loss = OR.loss(X,Y2)\n",
    "    train_loss_list2.append(loss)\n",
    "    \n",
    "    if i%100 ==99:\n",
    "        print('Epochs : {}, Cost : {}, Weights : {}, Bias : {}'.format(i+1, loss, AND.weights, AND.bias))"
   ]
  },
  {
   "cell_type": "code",
   "execution_count": 45,
   "metadata": {
    "scrolled": true
   },
   "outputs": [
    {
     "data": {
      "text/plain": [
       "array([[0.09855987],\n",
       "       [0.9600543 ],\n",
       "       [0.96195283],\n",
       "       [0.9998201 ]])"
      ]
     },
     "execution_count": 45,
     "metadata": {},
     "output_type": "execute_result"
    }
   ],
   "source": [
    "OR.predict(X)"
   ]
  },
  {
   "cell_type": "markdown",
   "metadata": {},
   "source": [
    "### 4.5.1.3 NAND게이트"
   ]
  },
  {
   "cell_type": "code",
   "execution_count": 46,
   "metadata": {},
   "outputs": [
    {
     "name": "stdout",
     "output_type": "stream",
     "text": [
      "Epochs : 100, Cost : 0.7911738653769252, Weights : [4.27548114 4.27284863], Bias : [-6.6027234]\n",
      "Epochs : 200, Cost : 0.5430490957885361, Weights : [4.27548114 4.27284863], Bias : [-6.6027234]\n",
      "Epochs : 300, Cost : 0.4212591302740578, Weights : [4.27548114 4.27284863], Bias : [-6.6027234]\n",
      "Epochs : 400, Cost : 0.3456117101527486, Weights : [4.27548114 4.27284863], Bias : [-6.6027234]\n",
      "Epochs : 500, Cost : 0.2931298605179329, Weights : [4.27548114 4.27284863], Bias : [-6.6027234]\n",
      "Epochs : 600, Cost : 0.2543396786002071, Weights : [4.27548114 4.27284863], Bias : [-6.6027234]\n",
      "Epochs : 700, Cost : 0.22443918596775067, Weights : [4.27548114 4.27284863], Bias : [-6.6027234]\n",
      "Epochs : 800, Cost : 0.20067626330853877, Weights : [4.27548114 4.27284863], Bias : [-6.6027234]\n",
      "Epochs : 900, Cost : 0.18134125517637367, Weights : [4.27548114 4.27284863], Bias : [-6.6027234]\n",
      "Epochs : 1000, Cost : 0.1653094408173465, Weights : [4.27548114 4.27284863], Bias : [-6.6027234]\n"
     ]
    }
   ],
   "source": [
    "NAND = LogicGate()\n",
    "X = np.array([[0,0],[0,1],[1,0],[1,1]])\n",
    "Y3 = np.array([[1],[1],[1],[0]])\n",
    "train_loss_list3 = list()\n",
    "\n",
    "for i in range(epochs):\n",
    "    grad_W, grad_b = NAND.get_gradient(X,Y3)\n",
    "    \n",
    "    NAND.weights -= lr*grad_W\n",
    "    NAND.bias -= lr*grad_b\n",
    "    \n",
    "    loss = NAND.loss(X,Y3)\n",
    "    train_loss_list3.append(loss)\n",
    "    \n",
    "    if i%100 ==99:\n",
    "        print('Epochs : {}, Cost : {}, Weights : {}, Bias : {}'.format(i+1, loss, AND.weights, AND.bias))    "
   ]
  },
  {
   "cell_type": "code",
   "execution_count": 91,
   "metadata": {},
   "outputs": [
    {
     "data": {
      "text/plain": [
       "array([[0.99851256],\n",
       "       [0.90861957],\n",
       "       [0.90879523],\n",
       "       [0.12861037]])"
      ]
     },
     "execution_count": 91,
     "metadata": {},
     "output_type": "execute_result"
    }
   ],
   "source": [
    "NAND.predict(X)"
   ]
  },
  {
   "cell_type": "markdown",
   "metadata": {},
   "source": [
    "### 4.5.1.3 XOR게이트"
   ]
  },
  {
   "cell_type": "code",
   "execution_count": 92,
   "metadata": {},
   "outputs": [
    {
     "name": "stdout",
     "output_type": "stream",
     "text": [
      "Epochs : 100, Cost : 1.4026852245456056, Weights : [4.27548114 4.27284863], Bias : [-6.6027234]\n",
      "Epochs : 200, Cost : 1.3879445622848308, Weights : [4.27548114 4.27284863], Bias : [-6.6027234]\n",
      "Epochs : 300, Cost : 1.386492030048381, Weights : [4.27548114 4.27284863], Bias : [-6.6027234]\n",
      "Epochs : 400, Cost : 1.3863236205351948, Weights : [4.27548114 4.27284863], Bias : [-6.6027234]\n",
      "Epochs : 500, Cost : 1.3862994743646844, Weights : [4.27548114 4.27284863], Bias : [-6.6027234]\n",
      "Epochs : 600, Cost : 1.3862953430687464, Weights : [4.27548114 4.27284863], Bias : [-6.6027234]\n",
      "Epochs : 700, Cost : 1.3862945581495083, Weights : [4.27548114 4.27284863], Bias : [-6.6027234]\n",
      "Epochs : 800, Cost : 1.38629440139037, Weights : [4.27548114 4.27284863], Bias : [-6.6027234]\n",
      "Epochs : 900, Cost : 1.3862943694120307, Weights : [4.27548114 4.27284863], Bias : [-6.6027234]\n",
      "Epochs : 1000, Cost : 1.386294362832352, Weights : [4.27548114 4.27284863], Bias : [-6.6027234]\n"
     ]
    }
   ],
   "source": [
    "XOR = LogicGate()\n",
    "X = np.array([[0,0],[0,1],[1,0],[1,1]])\n",
    "Y4 = np.array([[0],[1],[1],[0]])\n",
    "train_loss_list4 = list()\n",
    "for i in range(epochs):\n",
    "    grad_W, grad_b = XOR.get_gradient(X,Y4)\n",
    "    \n",
    "    XOR.weights -= lr*grad_W\n",
    "    XOR.bias -= lr*grad_b\n",
    "    \n",
    "    loss = XOR.loss(X,Y4)\n",
    "    train_loss_list4.append(loss)\n",
    "    \n",
    "    if i%100 ==99:\n",
    "        print('Epochs : {}, Cost : {}, Weights : {}, Bias : {}'.format(i+1, loss, AND.weights, AND.bias))  "
   ]
  },
  {
   "cell_type": "code",
   "execution_count": 93,
   "metadata": {
    "scrolled": true
   },
   "outputs": [
    {
     "data": {
      "text/plain": [
       "array([[0.49996646],\n",
       "       [0.49999372],\n",
       "       [0.49999575],\n",
       "       [0.50002302]])"
      ]
     },
     "execution_count": 93,
     "metadata": {},
     "output_type": "execute_result"
    }
   ],
   "source": [
    "XOR.predict(X)"
   ]
  },
  {
   "cell_type": "markdown",
   "metadata": {},
   "source": [
    "XOR는 학습이 잘 되지 않았읍니다....\n",
    "\n",
    "왜?\n",
    "\n",
    "1층신경망이라서!"
   ]
  },
  {
   "cell_type": "markdown",
   "metadata": {},
   "source": [
    "### 4.5.2 XOR 2층 신경망 구현하기"
   ]
  },
  {
   "cell_type": "markdown",
   "metadata": {},
   "source": [
    "자 우리가 처음에 퍼셉트론 배울때, XOR문제를 어떻게 해결했나 다시 잘 생각해보자!"
   ]
  },
  {
   "attachments": {
    "image.png": {
     "image/png": "[encoded data removed]"
    }
   },
   "cell_type": "markdown",
   "metadata": {},
   "source": [
    "![image.png](attachment:image.png)"
   ]
  },
  {
   "cell_type": "markdown",
   "metadata": {},
   "source": [
    "이거 푼거랑 똑같은 논리로 접근 하면 돼!"
   ]
  },
  {
   "cell_type": "code",
   "execution_count": 114,
   "metadata": {},
   "outputs": [],
   "source": [
    "class XOR():\n",
    "    def __init__(self):\n",
    "        np.random.seed(1)\n",
    "        \n",
    "        #2층 신경망의 매개변수\n",
    "        def weight_init():\n",
    "            params = {}\n",
    "            params['W1'] = np.random.randn(2)\n",
    "            params['b1'] = np.random.rand(2)\n",
    "            params['W2'] = np.random.randn(2)\n",
    "            params['b2'] = np.random.rand(1)\n",
    "            return params\n",
    "        \n",
    "        self.params = weight_init()\n",
    "        \n",
    "    def predict(self,x):\n",
    "        W1,W2 = self.params['W1'].reshape(-1,1), self.params['W2'].reshape(-1,1)\n",
    "        b1,b2 = self.params['b1'], self.params['b2']\n",
    "        \n",
    "        A1 = np.dot(x,W1) + b1\n",
    "        Z1 = sigmoid(A1)\n",
    "        A2 = np.dot(Z1,W2) + b2\n",
    "        pred_y = sigmoid(A2)\n",
    "        \n",
    "        return pred_y\n",
    "    \n",
    "    def loss(self,x,true_y):\n",
    "        pred_y = self.predict(x)\n",
    "        return cross_entropy_error_for_bin(pred_y, true_y)\n",
    "    \n",
    "    def get_gradient(self,x,t):\n",
    "        def loss_grad(grad):\n",
    "            return self.loss(x,t)\n",
    "        \n",
    "        grads = {}\n",
    "        grads['W1'] = differential(loss_grad, self.params['W1'])\n",
    "        grads['b1'] = differential(loss_grad, self.params['b1'])\n",
    "        grads['W2'] = differential(loss_grad, self.params['W2'])\n",
    "        grads['b2'] = differential(loss_grad, self.params['b2'])\n",
    "        \n",
    "        return grads"
   ]
  },
  {
   "cell_type": "code",
   "execution_count": 115,
   "metadata": {},
   "outputs": [
    {
     "name": "stdout",
     "output_type": "stream",
     "text": [
      "Epochs : 100, Cost : 1.3735671088815753, Weights : [4.27548114 4.27284863], Bias : [-6.6027234]\n",
      "Epochs : 200, Cost : 1.3651207639926013, Weights : [4.27548114 4.27284863], Bias : [-6.6027234]\n",
      "Epochs : 300, Cost : 1.353442133114538, Weights : [4.27548114 4.27284863], Bias : [-6.6027234]\n",
      "Epochs : 400, Cost : 1.3368594082199925, Weights : [4.27548114 4.27284863], Bias : [-6.6027234]\n",
      "Epochs : 500, Cost : 1.3137221263821095, Weights : [4.27548114 4.27284863], Bias : [-6.6027234]\n",
      "Epochs : 600, Cost : 1.2822263227992128, Weights : [4.27548114 4.27284863], Bias : [-6.6027234]\n",
      "Epochs : 700, Cost : 1.2366196689828508, Weights : [4.27548114 4.27284863], Bias : [-6.6027234]\n",
      "Epochs : 800, Cost : 1.1394214854008515, Weights : [4.27548114 4.27284863], Bias : [-6.6027234]\n",
      "Epochs : 900, Cost : 0.888854116541407, Weights : [4.27548114 4.27284863], Bias : [-6.6027234]\n",
      "Epochs : 1000, Cost : 0.6256077807762299, Weights : [4.27548114 4.27284863], Bias : [-6.6027234]\n"
     ]
    }
   ],
   "source": [
    "XOR = XOR()\n",
    "X = np.array([[0,0],[0,1],[1,0],[1,1]])\n",
    "Y4 = np.array([[0],[1],[1],[0]])\n",
    "\n",
    "train_loss_list5 = list()\n",
    "\n",
    "for i in range(epochs):\n",
    "    grads = XOR.get_gradient(X,Y4)\n",
    "    \n",
    "    for key in ['W1','b1','W2','b2']:\n",
    "        XOR.params[key] -= lr*grads[key]\n",
    "        \n",
    "    loss = XOR.loss(X,Y4)\n",
    "    train_loss_list5.append(loss)\n",
    "    \n",
    "    if i%100 ==99:\n",
    "        print('Epochs : {}, Cost : {}, Weights : {}, Bias : {}'.format(i+1, loss, AND.weights, AND.bias))   "
   ]
  },
  {
   "cell_type": "code",
   "execution_count": 116,
   "metadata": {},
   "outputs": [
    {
     "data": {
      "text/plain": [
       "array([[0.2609618 ],\n",
       "       [0.7639633 ],\n",
       "       [0.68281861],\n",
       "       [0.25773454]])"
      ]
     },
     "execution_count": 116,
     "metadata": {},
     "output_type": "execute_result"
    }
   ],
   "source": [
    "XOR.predict(X)"
   ]
  },
  {
   "cell_type": "markdown",
   "metadata": {},
   "source": [
    "#### 학습률 조정"
   ]
  },
  {
   "cell_type": "code",
   "execution_count": 117,
   "metadata": {},
   "outputs": [
    {
     "name": "stdout",
     "output_type": "stream",
     "text": [
      "Epochs : 100, Cost : 0.26423816180460497, Weights : [4.27548114 4.27284863], Bias : [-6.6027234]\n",
      "Epochs : 200, Cost : 0.15472193951681867, Weights : [4.27548114 4.27284863], Bias : [-6.6027234]\n",
      "Epochs : 300, Cost : 0.10712110936785606, Weights : [4.27548114 4.27284863], Bias : [-6.6027234]\n",
      "Epochs : 400, Cost : 0.08124302351322064, Weights : [4.27548114 4.27284863], Bias : [-6.6027234]\n",
      "Epochs : 500, Cost : 0.0651692042852715, Weights : [4.27548114 4.27284863], Bias : [-6.6027234]\n",
      "Epochs : 600, Cost : 0.05428045337331503, Weights : [4.27548114 4.27284863], Bias : [-6.6027234]\n",
      "Epochs : 700, Cost : 0.04644351003527885, Weights : [4.27548114 4.27284863], Bias : [-6.6027234]\n",
      "Epochs : 800, Cost : 0.040545985198490495, Weights : [4.27548114 4.27284863], Bias : [-6.6027234]\n",
      "Epochs : 900, Cost : 0.035953989738723505, Weights : [4.27548114 4.27284863], Bias : [-6.6027234]\n",
      "Epochs : 1000, Cost : 0.03228103535893161, Weights : [4.27548114 4.27284863], Bias : [-6.6027234]\n"
     ]
    }
   ],
   "source": [
    "lr = 0.3\n",
    "\n",
    "for i in range(epochs):\n",
    "    grads = XOR.get_gradient(X,Y4)\n",
    "    \n",
    "    for key in ['W1','b1','W2','b2']:\n",
    "        XOR.params[key] -= lr*grads[key]\n",
    "        \n",
    "    loss = XOR.loss(X,Y4)\n",
    "    train_loss_list5.append(loss)\n",
    "    \n",
    "    if i%100 ==99:\n",
    "        print('Epochs : {}, Cost : {}, Weights : {}, Bias : {}'.format(i+1, loss, AND.weights, AND.bias))   "
   ]
  },
  {
   "cell_type": "code",
   "execution_count": 118,
   "metadata": {},
   "outputs": [
    {
     "data": {
      "text/plain": [
       "array([[0.01437328],\n",
       "       [0.97911594],\n",
       "       [0.98563516],\n",
       "       [0.0144055 ]])"
      ]
     },
     "execution_count": 118,
     "metadata": {},
     "output_type": "execute_result"
    }
   ],
   "source": [
    "XOR.predict(X)"
   ]
  },
  {
   "cell_type": "markdown",
   "metadata": {},
   "source": [
    "### 4.5.3 MNIST 2층 신경망 구현하기"
   ]
  },
  {
   "cell_type": "markdown",
   "metadata": {},
   "source": [
    "지난번엔 우리가 '이미 학습된 데이터(pre-trained data)'를 가져다가 MNIST를 학습을 시켰었잖아<br>\n",
    "오늘은 직접! 훈련까지 시켜볼거야"
   ]
  },
  {
   "cell_type": "markdown",
   "metadata": {},
   "source": [
    "신경망 학습의 순서는 다음과 같아<br>\n",
    "1. 미니배치\n",
    "2. 기울기 산출\n",
    "3. 매개변수 갱신\n",
    "4. 1~3 반복\n",
    "\n",
    "훈련데이터중 일부를 뽑아온 애를 미니배치라 했어. 얘의 손실함수를 줄이는게 목표야 (전체의 손실함수를 한번에 다 줄이려는게 아니야!)\n",
    "이때, '일부'를 뽑는다고 했잖아? 그리고 얘한테 '경사하강법'을 적용할꺼잖아?<br>\n",
    "그래서 얘를, <b>'확률적 경사 하강법'(Stochastic Gradient Descent)</b> 라고 해"
   ]
  },
  {
   "cell_type": "markdown",
   "metadata": {},
   "source": [
    "### 데이터 불러오기"
   ]
  },
  {
   "cell_type": "code",
   "execution_count": 203,
   "metadata": {},
   "outputs": [],
   "source": [
    "#나도 힘들어. 그냥 불러서 쓸거야\n",
    "import os, sys\n",
    "os.getcwd()\n",
    "sys.path.append('D:\\python_projects\\python_practice\\deep_scratch_01\\deep-learning-from-scratch-master')\n",
    "\n",
    "#\n",
    "# deep-learning-from-scratch-master라는 폴더를 찾아\n",
    "# 경로를 복사해\n",
    "# sys.path.append 뒤에 붙여넣으렴\n"
   ]
  },
  {
   "cell_type": "code",
   "execution_count": 155,
   "metadata": {},
   "outputs": [],
   "source": [
    "from dataset.mnist import load_mnist"
   ]
  },
  {
   "cell_type": "code",
   "execution_count": 156,
   "metadata": {},
   "outputs": [],
   "source": [
    "(x_train,y_train),(x_test,y_test) = load_mnist(normalize = True, flatten = True, one_hot_label = True)"
   ]
  },
  {
   "cell_type": "markdown",
   "metadata": {},
   "source": [
    "### 하이퍼 파라미터"
   ]
  },
  {
   "cell_type": "code",
   "execution_count": 162,
   "metadata": {},
   "outputs": [
    {
     "name": "stdout",
     "output_type": "stream",
     "text": [
      "60000\n"
     ]
    }
   ],
   "source": [
    "epochs = 100\n",
    "lr = 0.1\n",
    "batch_size = 100\n",
    "train_size = x_train.shape[0]\n",
    "print(train_size)"
   ]
  },
  {
   "cell_type": "markdown",
   "metadata": {},
   "source": [
    "### 사용할 함수"
   ]
  },
  {
   "cell_type": "code",
   "execution_count": 159,
   "metadata": {},
   "outputs": [],
   "source": [
    "#위에있는거랑 겹치는 부분이 많아\n",
    "\n",
    "def sigmoid(x):\n",
    "    return 1/(1+np.exp(-x))\n",
    "\n",
    "def mean_squared_error(pred_y,true_y):\n",
    "    return 0.5 * np.sum((true_y - pred_y)**2 )\n",
    "\n",
    "def cross_entropy_error(pred_y, true_y):\n",
    "    if true_y.ndim==1:\n",
    "        true_y = true_y.reshape(1,-1)\n",
    "        pred_y = pred_y.reshape(1,-1)\n",
    "        \n",
    "    delta = 1e-7\n",
    "    return -np.sum(true_y * np.log(pred_y + delta))\n",
    "\n",
    "def cross_entropy_error_for_batch(pred_y,true_y):\n",
    "    if true_y.ndim ==1:\n",
    "        true_y = true_y.reshape(1,-1)\n",
    "        pred_y = pred_y.reshape(1,-1)\n",
    "  \n",
    "    delta = 1e-7\n",
    "    batch_size = pred_y.shape[0]\n",
    "    return -np.sum(true_y * np.log(pred_y + delta)) /batch_size\n",
    "\n",
    "def cross_entropy_error_for_bin(pred_y,true_y):\n",
    "    return 0.5 * np.sum((-true_y * np.log(pred_y) - (1 - true_y) * np.log(1-pred_y)))\n",
    "\n",
    "def softmax(a):\n",
    "    exp_a = np.exp(a)\n",
    "    sum_exp_a = np.sum(exp_a)\n",
    "    y = exp_a / sum_exp_a\n",
    "    return y\n",
    "\n",
    "def numerical_gradient_1d(f, x):\n",
    "    h = 1e-4 # 0.0001\n",
    "    grad = np.zeros_like(x)\n",
    "    \n",
    "    for idx in range(x.size):\n",
    "        tmp_val = x[idx]\n",
    "        x[idx] = float(tmp_val) + h\n",
    "        fxh1 = f(x) # f(x+h)\n",
    "        \n",
    "        x[idx] = tmp_val - h \n",
    "        fxh2 = f(x) # f(x-h)\n",
    "        grad[idx] = (fxh1 - fxh2) / (2*h)\n",
    "        \n",
    "        x[idx] = tmp_val # 값 복원\n",
    "       \n",
    "    return grad\n",
    "\n",
    "def numerical_gradient(f, X):\n",
    "    if X.ndim ==1:\n",
    "        return numerical_gradient_1d(f,X)\n",
    "    \n",
    "    else:\n",
    "        grad = np.zeros_like(X)\n",
    "        \n",
    "        for idx, x in enumerate(X):\n",
    "            grad[idx] = numerical_gradient_1d(f,x)\n",
    "            \n",
    "        return grad"
   ]
  },
  {
   "cell_type": "code",
   "execution_count": 164,
   "metadata": {},
   "outputs": [],
   "source": [
    "class two_layer():\n",
    "    def __init__(self):\n",
    "        \n",
    "        def weight_init(input,hidden,output):\n",
    "            np.random.seed(1)\n",
    "            params = {}\n",
    "            params['W1'] = 0.01 * np.random.randn(input,hidden)\n",
    "            params['b1'] = np.zeros(hidden)\n",
    "            params['W2'] = 0.01 * np.random.randn(hidden,output)\n",
    "            params['b2'] = np.zeros(output)\n",
    "            \n",
    "            return params\n",
    "        \n",
    "        self.params = weight_init(784,64,10)\n",
    "        \n",
    "    def predict(self,x):\n",
    "        W1,W2 = self.params['W1'],self.params['W2']\n",
    "        b1,b2 = self.params['b1'],self.params['b2']\n",
    "        \n",
    "        A1 = np.dot(x,W1) + b1\n",
    "        Z1 = sigmoid(A1)\n",
    "        A2 = np.dot(Z1,W2) + b2\n",
    "        pred_y = softmax(A2)\n",
    "        \n",
    "        return pred_y\n",
    "    \n",
    "    def loss(self,x,true_y):\n",
    "        pred_y = self.predict(x)\n",
    "        return cross_entropy_error_for_bin(pred_y,true_y)\n",
    "    \n",
    "    def accuracy(self,x,true_y):\n",
    "        pred_y = self.predict(x)\n",
    "        y_argmax = np.argmax(pred_y, axis = 1)\n",
    "        t_argmax = np.argmax(true_y, axis = 1)\n",
    "        \n",
    "        accuracy = np.sum(y_argmax == t_argmax) / float(x.shape[0])\n",
    "        \n",
    "        return accuracy\n",
    "    \n",
    "    def get_gradient(self,x,t):\n",
    "        def loss_grad(grad):\n",
    "            return self.loss(x,t)\n",
    "        \n",
    "        grads = {}\n",
    "        grads['W1'] = numerical_gradient(loss_grad,self.params['W1'])\n",
    "        grads['b1'] = numerical_gradient(loss_grad,self.params['b1'])\n",
    "        grads['W2'] = numerical_gradient(loss_grad,self.params['W2'])\n",
    "        grads['b2'] = numerical_gradient(loss_grad,self.params['b2'])\n",
    "        \n",
    "        return grads"
   ]
  },
  {
   "cell_type": "code",
   "execution_count": 165,
   "metadata": {},
   "outputs": [
    {
     "data": {
      "application/vnd.jupyter.widget-view+json": {
       "model_id": "40558dd48dc3452880d2135e32647b4a",
       "version_major": 2,
       "version_minor": 0
      },
      "text/plain": [
       "HBox(children=(FloatProgress(value=0.0), HTML(value='')))"
      ]
     },
     "metadata": {},
     "output_type": "display_data"
    },
    {
     "name": "stdout",
     "output_type": "stream",
     "text": [
      "Epoch : 1, Cost : 402.8164838421469, Train Accuracy : 0.09871666666666666, Test Accuracy : 0.098\n",
      "Epoch : 2, Cost : 371.57567905511667, Train Accuracy : 0.09736666666666667, Test Accuracy : 0.0982\n",
      "Epoch : 3, Cost : 354.12208413052724, Train Accuracy : 0.10126666666666667, Test Accuracy : 0.1027\n",
      "Epoch : 4, Cost : 352.2199661695997, Train Accuracy : 0.10221666666666666, Test Accuracy : 0.101\n",
      "Epoch : 5, Cost : 346.23202071921105, Train Accuracy : 0.10411666666666666, Test Accuracy : 0.1027\n",
      "Epoch : 6, Cost : 347.68277491597735, Train Accuracy : 0.09946666666666666, Test Accuracy : 0.0988\n",
      "Epoch : 7, Cost : 352.57694522799136, Train Accuracy : 0.09765, Test Accuracy : 0.1005\n",
      "Epoch : 8, Cost : 348.12490008726587, Train Accuracy : 0.10136666666666666, Test Accuracy : 0.1035\n",
      "Epoch : 9, Cost : 345.65574279364773, Train Accuracy : 0.10428333333333334, Test Accuracy : 0.1\n",
      "Epoch : 10, Cost : 340.8321878450173, Train Accuracy : 0.09751666666666667, Test Accuracy : 0.0974\n",
      "Epoch : 11, Cost : 342.74467819267335, Train Accuracy : 0.12783333333333333, Test Accuracy : 0.1224\n",
      "Epoch : 12, Cost : 343.9496917773555, Train Accuracy : 0.12223333333333333, Test Accuracy : 0.1154\n",
      "Epoch : 13, Cost : 343.4104929948221, Train Accuracy : 0.12613333333333332, Test Accuracy : 0.1205\n",
      "Epoch : 14, Cost : 342.89245084518984, Train Accuracy : 0.09648333333333334, Test Accuracy : 0.0952\n",
      "Epoch : 15, Cost : 342.79052162069513, Train Accuracy : 0.1441, Test Accuracy : 0.1421\n",
      "Epoch : 16, Cost : 342.602536699634, Train Accuracy : 0.19, Test Accuracy : 0.1914\n",
      "Epoch : 17, Cost : 340.04582008198554, Train Accuracy : 0.10151666666666667, Test Accuracy : 0.1024\n",
      "Epoch : 18, Cost : 342.0034656788959, Train Accuracy : 0.10228333333333334, Test Accuracy : 0.1043\n",
      "Epoch : 19, Cost : 342.9609071925671, Train Accuracy : 0.16605, Test Accuracy : 0.1609\n",
      "Epoch : 20, Cost : 341.28829211871926, Train Accuracy : 0.18458333333333332, Test Accuracy : 0.1886\n",
      "Epoch : 21, Cost : 341.40703688357087, Train Accuracy : 0.13885, Test Accuracy : 0.1335\n",
      "Epoch : 22, Cost : 339.7341535537558, Train Accuracy : 0.13973333333333332, Test Accuracy : 0.1364\n",
      "Epoch : 23, Cost : 341.71903586085494, Train Accuracy : 0.1922, Test Accuracy : 0.1895\n",
      "Epoch : 24, Cost : 339.9430966088912, Train Accuracy : 0.2629166666666667, Test Accuracy : 0.262\n",
      "Epoch : 25, Cost : 337.7477130928904, Train Accuracy : 0.17113333333333333, Test Accuracy : 0.1696\n",
      "Epoch : 26, Cost : 336.28215617769877, Train Accuracy : 0.21365, Test Accuracy : 0.2129\n",
      "Epoch : 27, Cost : 334.9857098486955, Train Accuracy : 0.20678333333333335, Test Accuracy : 0.2081\n",
      "Epoch : 28, Cost : 332.03466409549384, Train Accuracy : 0.2762833333333333, Test Accuracy : 0.2784\n",
      "Epoch : 29, Cost : 328.19425899496, Train Accuracy : 0.26131666666666664, Test Accuracy : 0.2677\n",
      "Epoch : 30, Cost : 324.2417628975337, Train Accuracy : 0.37016666666666664, Test Accuracy : 0.3757\n",
      "Epoch : 31, Cost : 324.04389907176835, Train Accuracy : 0.23406666666666667, Test Accuracy : 0.2348\n",
      "Epoch : 32, Cost : 331.57224133183763, Train Accuracy : 0.27535, Test Accuracy : 0.2797\n",
      "Epoch : 33, Cost : 325.8734563742794, Train Accuracy : 0.25971666666666665, Test Accuracy : 0.2516\n",
      "Epoch : 34, Cost : 324.9264757661573, Train Accuracy : 0.359, Test Accuracy : 0.3624\n",
      "Epoch : 35, Cost : 323.4432111688303, Train Accuracy : 0.31035, Test Accuracy : 0.3063\n",
      "Epoch : 36, Cost : 330.6691931539797, Train Accuracy : 0.29115, Test Accuracy : 0.2895\n",
      "Epoch : 37, Cost : 344.59674540387454, Train Accuracy : 0.13435, Test Accuracy : 0.1234\n",
      "Epoch : 38, Cost : 317.3082656777031, Train Accuracy : 0.36365, Test Accuracy : 0.3514\n",
      "Epoch : 39, Cost : 310.66987471184905, Train Accuracy : 0.4029, Test Accuracy : 0.399\n",
      "Epoch : 40, Cost : 311.6696720109154, Train Accuracy : 0.4270833333333333, Test Accuracy : 0.4286\n",
      "Epoch : 41, Cost : 312.76943889827237, Train Accuracy : 0.39815, Test Accuracy : 0.3957\n",
      "Epoch : 42, Cost : 321.92266277410545, Train Accuracy : 0.30268333333333336, Test Accuracy : 0.2901\n",
      "Epoch : 43, Cost : 323.5431457572282, Train Accuracy : 0.3641666666666667, Test Accuracy : 0.3624\n",
      "Epoch : 44, Cost : 312.4161503572003, Train Accuracy : 0.38863333333333333, Test Accuracy : 0.386\n",
      "Epoch : 45, Cost : 308.19656929983273, Train Accuracy : 0.34013333333333334, Test Accuracy : 0.3398\n",
      "Epoch : 46, Cost : 301.59389534766694, Train Accuracy : 0.461, Test Accuracy : 0.4568\n",
      "Epoch : 47, Cost : 302.324444741408, Train Accuracy : 0.4648, Test Accuracy : 0.4599\n",
      "Epoch : 48, Cost : 317.9536589660647, Train Accuracy : 0.3547666666666667, Test Accuracy : 0.3411\n",
      "Epoch : 49, Cost : 300.32566660481245, Train Accuracy : 0.41618333333333335, Test Accuracy : 0.4109\n",
      "Epoch : 50, Cost : 310.7488257248816, Train Accuracy : 0.38705, Test Accuracy : 0.3911\n",
      "Epoch : 51, Cost : 318.2279889844905, Train Accuracy : 0.30196666666666666, Test Accuracy : 0.2912\n",
      "Epoch : 52, Cost : 301.56744356779643, Train Accuracy : 0.49106666666666665, Test Accuracy : 0.4852\n",
      "Epoch : 53, Cost : 301.13840674608946, Train Accuracy : 0.4094, Test Accuracy : 0.4051\n",
      "Epoch : 54, Cost : 332.0357879862454, Train Accuracy : 0.3515666666666667, Test Accuracy : 0.3452\n",
      "Epoch : 55, Cost : 318.99205492039926, Train Accuracy : 0.4508666666666667, Test Accuracy : 0.4493\n",
      "Epoch : 56, Cost : 322.2311509075726, Train Accuracy : 0.339, Test Accuracy : 0.3318\n",
      "Epoch : 57, Cost : 319.3729683486307, Train Accuracy : 0.3318, Test Accuracy : 0.3254\n",
      "Epoch : 58, Cost : 304.4837997666215, Train Accuracy : 0.47131666666666666, Test Accuracy : 0.4674\n",
      "Epoch : 59, Cost : 297.8159765231569, Train Accuracy : 0.39591666666666664, Test Accuracy : 0.3924\n",
      "Epoch : 60, Cost : 305.261520463841, Train Accuracy : 0.5043666666666666, Test Accuracy : 0.5017\n",
      "Epoch : 61, Cost : 298.510113008722, Train Accuracy : 0.5098166666666667, Test Accuracy : 0.5031\n",
      "Epoch : 62, Cost : 287.9598690405269, Train Accuracy : 0.489, Test Accuracy : 0.4852\n",
      "Epoch : 63, Cost : 297.1971165348923, Train Accuracy : 0.5226666666666666, Test Accuracy : 0.5134\n",
      "Epoch : 64, Cost : 295.6805204587012, Train Accuracy : 0.5359333333333334, Test Accuracy : 0.5379\n",
      "Epoch : 65, Cost : 295.3546414283456, Train Accuracy : 0.48401666666666665, Test Accuracy : 0.484\n",
      "Epoch : 66, Cost : 304.6919885510263, Train Accuracy : 0.5070666666666667, Test Accuracy : 0.5083\n",
      "Epoch : 67, Cost : 305.8681000920927, Train Accuracy : 0.42461666666666664, Test Accuracy : 0.429\n",
      "Epoch : 68, Cost : 302.52449442428417, Train Accuracy : 0.47923333333333334, Test Accuracy : 0.4755\n",
      "Epoch : 69, Cost : 292.9147007598118, Train Accuracy : 0.48255, Test Accuracy : 0.4848\n",
      "Epoch : 70, Cost : 295.9157937512478, Train Accuracy : 0.5189, Test Accuracy : 0.5296\n",
      "Epoch : 71, Cost : 293.29388944366923, Train Accuracy : 0.5212166666666667, Test Accuracy : 0.5233\n",
      "Epoch : 72, Cost : 300.2937802478701, Train Accuracy : 0.41963333333333336, Test Accuracy : 0.4203\n",
      "Epoch : 73, Cost : 314.42472993969045, Train Accuracy : 0.3601666666666667, Test Accuracy : 0.3609\n",
      "Epoch : 74, Cost : 308.109368828943, Train Accuracy : 0.44788333333333336, Test Accuracy : 0.4393\n",
      "Epoch : 75, Cost : 292.57738055847085, Train Accuracy : 0.5543666666666667, Test Accuracy : 0.5549\n",
      "Epoch : 76, Cost : 290.2166337736786, Train Accuracy : 0.5485166666666667, Test Accuracy : 0.5469\n",
      "Epoch : 77, Cost : 284.97625714945707, Train Accuracy : 0.5880833333333333, Test Accuracy : 0.5896\n",
      "Epoch : 78, Cost : 286.8066192036675, Train Accuracy : 0.6146833333333334, Test Accuracy : 0.6255\n",
      "Epoch : 79, Cost : 280.8704377892342, Train Accuracy : 0.6181166666666666, Test Accuracy : 0.6154\n",
      "Epoch : 80, Cost : 280.3725417827603, Train Accuracy : 0.6022666666666666, Test Accuracy : 0.6023\n",
      "Epoch : 81, Cost : 294.3658912116043, Train Accuracy : 0.54235, Test Accuracy : 0.548\n",
      "Epoch : 82, Cost : 286.7656006314743, Train Accuracy : 0.5644166666666667, Test Accuracy : 0.5628\n",
      "Epoch : 83, Cost : 304.8415632826875, Train Accuracy : 0.5647166666666666, Test Accuracy : 0.571\n",
      "Epoch : 84, Cost : 309.07844260503146, Train Accuracy : 0.5349833333333334, Test Accuracy : 0.5409\n",
      "Epoch : 85, Cost : 302.7095223722164, Train Accuracy : 0.4614, Test Accuracy : 0.4498\n",
      "Epoch : 86, Cost : 308.39094820287954, Train Accuracy : 0.5588833333333333, Test Accuracy : 0.5547\n",
      "Epoch : 87, Cost : 287.43023693432156, Train Accuracy : 0.5220166666666667, Test Accuracy : 0.524\n"
     ]
    },
    {
     "name": "stdout",
     "output_type": "stream",
     "text": [
      "Epoch : 88, Cost : 288.7753458727649, Train Accuracy : 0.5432, Test Accuracy : 0.5437\n",
      "Epoch : 89, Cost : 302.61241215699783, Train Accuracy : 0.5399, Test Accuracy : 0.5408\n",
      "Epoch : 90, Cost : 283.96032104154955, Train Accuracy : 0.6251666666666666, Test Accuracy : 0.6211\n",
      "Epoch : 91, Cost : 284.87820066264374, Train Accuracy : 0.66715, Test Accuracy : 0.6617\n",
      "Epoch : 92, Cost : 276.0302408935228, Train Accuracy : 0.68755, Test Accuracy : 0.6888\n",
      "Epoch : 93, Cost : 282.76912897609685, Train Accuracy : 0.7214833333333334, Test Accuracy : 0.7189\n",
      "Epoch : 94, Cost : 270.8816176076607, Train Accuracy : 0.74785, Test Accuracy : 0.7544\n",
      "Epoch : 95, Cost : 275.7640755414362, Train Accuracy : 0.7497333333333334, Test Accuracy : 0.7441\n",
      "Epoch : 96, Cost : 267.16212811279706, Train Accuracy : 0.76365, Test Accuracy : 0.7617\n",
      "Epoch : 97, Cost : 274.52023678670804, Train Accuracy : 0.7708, Test Accuracy : 0.7675\n",
      "Epoch : 98, Cost : 293.99088361624274, Train Accuracy : 0.5806833333333333, Test Accuracy : 0.5873\n",
      "Epoch : 99, Cost : 297.8953851119378, Train Accuracy : 0.5867833333333333, Test Accuracy : 0.5799\n",
      "Epoch : 100, Cost : 283.6699644991021, Train Accuracy : 0.6155166666666667, Test Accuracy : 0.6215\n",
      "\n",
      "learning time : 4669.237923s\n"
     ]
    }
   ],
   "source": [
    "model = two_layer()\n",
    "\n",
    "train_loss_list = list()\n",
    "train_acc_list = list()\n",
    "test_acc_list = list()\n",
    "iter_per_epoch = max(train_size/batch_size,1)\n",
    "\n",
    "start_time = time.time()\n",
    "for i in tqdm(range(epochs)):\n",
    "    \n",
    "    batch_idx = np.random.choice(train_size, batch_size)\n",
    "    x_batch = x_train[batch_idx]\n",
    "    y_batch = y_train[batch_idx]\n",
    "    \n",
    "    grads = model.get_gradient(x_batch,y_batch)\n",
    "    \n",
    "    for key in grads.keys():\n",
    "        model.params[key] -= lr * grads[key]\n",
    "        \n",
    "    loss = model.loss(x_batch,y_batch)\n",
    "    train_loss_list.append(loss)\n",
    "    \n",
    "    train_accuracy = model.accuracy(x_train,y_train)\n",
    "    test_accuracy = model.accuracy(x_test,y_test)\n",
    "    train_acc_list.append(train_accuracy)\n",
    "    test_acc_list.append(test_accuracy)\n",
    "    \n",
    "    print('Epoch : {}, Cost : {}, Train Accuracy : {}, Test Accuracy : {}'.format(i+1, loss, train_accuracy, test_accuracy))\n",
    "    \n",
    "end_time = time.time()\n",
    "print('learning time : {:3f}s'.format(end_time - start_time))"
   ]
  }
 ],
 "metadata": {
  "celltoolbar": "Raw Cell Format",
  "kernelspec": {
   "display_name": "Python 3",
   "language": "python",
   "name": "python3"
  },
  "language_info": {
   "codemirror_mode": {
    "name": "ipython",
    "version": 3
   },
   "file_extension": ".py",
   "mimetype": "text/x-python",
   "name": "python",
   "nbconvert_exporter": "python",
   "pygments_lexer": "ipython3",
   "version": "3.8.3"
  }
 },
 "nbformat": 4,
 "nbformat_minor": 4
}
