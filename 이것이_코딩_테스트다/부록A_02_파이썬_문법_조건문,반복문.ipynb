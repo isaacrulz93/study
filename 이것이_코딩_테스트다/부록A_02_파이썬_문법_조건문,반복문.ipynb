{
 "cells": [
  {
   "cell_type": "markdown",
   "id": "a64ff911",
   "metadata": {},
   "source": [
    "# 조건문"
   ]
  },
  {
   "cell_type": "markdown",
   "id": "b0872099",
   "metadata": {},
   "source": [
    "프로그램의 흐름을 제어하는 문법.<br>\n",
    "조건문에 따라 프로그램의 로직을 설정한다.<br>"
   ]
  },
  {
   "cell_type": "code",
   "execution_count": 2,
   "id": "9549c68b",
   "metadata": {},
   "outputs": [
    {
     "name": "stdout",
     "output_type": "stream",
     "text": [
      "11\n"
     ]
    }
   ],
   "source": [
    "# 10 이상의 수만 출력하는 조건문\n",
    "\n",
    "x = 11\n",
    "\n",
    "if x>10:\n",
    "    print(x)"
   ]
  },
  {
   "cell_type": "markdown",
   "id": "0268c8b9",
   "metadata": {},
   "source": [
    "if 조건문1:<br>\n",
    "&nbsp;&nbsp;&nbsp;&nbsp;조건문1이 참일때 실행<br>\n",
    "elif 조건문2:<br>\n",
    "&nbsp;&nbsp;&nbsp;&nbsp;조건문1이 아닌데 조건문2를 실행시킬때<br>\n",
    "else:<br>\n",
    "&nbsp;&nbsp;&nbsp;&nbsp;위의 조건문이 다 True가 아닐때<br>"
   ]
  },
  {
   "cell_type": "code",
   "execution_count": 6,
   "id": "d5c98d36",
   "metadata": {},
   "outputs": [
    {
     "name": "stdout",
     "output_type": "stream",
     "text": [
      "B\n"
     ]
    }
   ],
   "source": [
    "#성적분류기\n",
    "\n",
    "성적 = 85\n",
    "\n",
    "if 성적 >= 90:\n",
    "    print(\"A\")\n",
    "elif 성적 >= 80:\n",
    "    print(\"B\")\n",
    "elif 성적 >= 70:\n",
    "    print(\"C\")\n",
    "else:\n",
    "    print('F')"
   ]
  },
  {
   "cell_type": "markdown",
   "id": "be44f1e6",
   "metadata": {},
   "source": [
    "#### 비교연산자"
   ]
  },
  {
   "cell_type": "markdown",
   "id": "441ba1bd",
   "metadata": {},
   "source": [
    "<table border=\"1\" align ='left'>\n",
    "<th>논리연산자</th>\n",
    "<th>설명</th>\n",
    "<tr><!--첫줄-->\n",
    "    <td>X == Y</td>\n",
    "    <td>X와 Y가 서로 같으면 참(True)이다</td>\n",
    "</tr>\n",
    "<tr>\n",
    "    <td> X != Y</td>\n",
    "    <td> X와 Y가 서로 다를 때 참(True)이다</td>\n",
    "</tr>\n",
    "<tr>\n",
    "    <td> X > Y</td>\n",
    "    <td> X가 Y보다 클 때 참(True)이다</td>\n",
    "</tr>\n",
    "<tr>\n",
    "    <td> X < Y </td>\n",
    "    <td> X가 Y보다 작을때 참(True)이다</td>\n",
    "</tr>\n",
    "<tr>\n",
    "    <td> X >= Y</td>\n",
    "    <td> X가 Y보다 크거나 같을 때 참(True)이다</td>\n",
    "</tr>\n",
    "<tr>\n",
    "    <td> X <= Y</td>\n",
    "    <td> X가 Y보다 작거나 같을 때 참(True)다</td>\n",
    "</tr>\n",
    "</table>"
   ]
  },
  {
   "cell_type": "markdown",
   "id": "1c9f6e75",
   "metadata": {},
   "source": [
    "#### 논리연산자"
   ]
  },
  {
   "cell_type": "markdown",
   "id": "9b446208",
   "metadata": {},
   "source": [
    "<table align = 'left'>\n",
    "    <th>논리연산자</th>\n",
    "    <th>설명</th>\n",
    "        <tr>\n",
    "            <td> X and Y</td>\n",
    "            <td> X와 Y가 모두 참(True)일때 참(True)이다</td>\n",
    "        </tr>\n",
    "        <tr>\n",
    "            <td> X or Y</td>\n",
    "            <td> X와 Y 둘중 하나라도 참(True)일때 참(True)이다</td>\n",
    "        </tr>\n",
    "        <tr>\n",
    "            <td> not X </td>\n",
    "            <td> X가 거짓(False)일 때 참(True)다</td>\n",
    "        </tr>\n",
    "</table>"
   ]
  },
  {
   "cell_type": "markdown",
   "id": "88e4c351",
   "metadata": {},
   "source": [
    "#### 기타 연산자"
   ]
  },
  {
   "cell_type": "markdown",
   "id": "a63c6d8a",
   "metadata": {},
   "source": [
    "<table>\n",
    "    <th>기타 연산자</th>\n",
    "    <th>설명</th>\n",
    "        <tr>\n",
    "            <td>X in List<td>\n",
    "            <td>리스트 안에 X가 있으면 참(True)다</td>\n",
    "        </tr>\n",
    "        <tr>\n",
    "            <td>X not in 문자열</td>\n",
    "            <td>문자열 안에 X가 들어가 있지 않을 때 참(True)이다</td>\n",
    "        </tr>\n",
    "</table>"
   ]
  },
  {
   "cell_type": "markdown",
   "id": "c3470502",
   "metadata": {},
   "source": [
    "#### 기타 tip"
   ]
  },
  {
   "cell_type": "markdown",
   "id": "0d43670a",
   "metadata": {},
   "source": [
    "소스코드가 한줄 일 경우, 줄을 바꾸지 않고도 표현 할 수 있다.<br>\n",
    "조건부 표현식을 이용하면(Conditional Expression)을 이용하면, if~else문도 한줄에 작성 할 수 있다."
   ]
  },
  {
   "cell_type": "code",
   "execution_count": 11,
   "id": "90e50dcc",
   "metadata": {},
   "outputs": [
    {
     "name": "stdout",
     "output_type": "stream",
     "text": [
      "Success\n",
      "Success\n"
     ]
    }
   ],
   "source": [
    "score = 85\n",
    "\n",
    "#한줄로 표현\n",
    "if score >= 80: result = \"Success\"\n",
    "else : result =\"Fail\"\n",
    "print(result)\n",
    "\n",
    "#if~else도 한줄로 표현\n",
    "result = \"Success\" if score >=80 else \"Fail\"\n",
    "print(result)"
   ]
  },
  {
   "cell_type": "markdown",
   "id": "5fd458e0",
   "metadata": {},
   "source": [
    "리스트에서 특정한 값을 없에고 싶을 경우"
   ]
  },
  {
   "cell_type": "code",
   "execution_count": 14,
   "id": "a3458424",
   "metadata": {},
   "outputs": [
    {
     "name": "stdout",
     "output_type": "stream",
     "text": [
      "[1, 2, 4]\n"
     ]
    }
   ],
   "source": [
    "#일반적\n",
    "a = [1,2,3,4,5,5,5]\n",
    "remove_set = {3,5}\n",
    "result =[]\n",
    "\n",
    "for i in a:\n",
    "    if i not in remove_set:\n",
    "        result.append(i)\n",
    "        \n",
    "print(result)"
   ]
  },
  {
   "cell_type": "code",
   "execution_count": 16,
   "id": "e183c816",
   "metadata": {},
   "outputs": [
    {
     "name": "stdout",
     "output_type": "stream",
     "text": [
      "[1, 2, 4]\n"
     ]
    }
   ],
   "source": [
    "#fancy way\n",
    "a = [1,2,3,4,5,5,5]\n",
    "remove_set = {3,5}\n",
    "\n",
    "result =[i for i in a if i not in remove_set]\n",
    "print(result)"
   ]
  },
  {
   "cell_type": "markdown",
   "id": "800d1e7a",
   "metadata": {},
   "source": [
    "# 반복문"
   ]
  },
  {
   "cell_type": "markdown",
   "id": "48df5abf",
   "metadata": {},
   "source": [
    "### While 문"
   ]
  },
  {
   "cell_type": "markdown",
   "id": "c8c88dcb",
   "metadata": {},
   "source": [
    "조건이 참일때에만 반복적으로 코드를 실행시킨다."
   ]
  },
  {
   "cell_type": "code",
   "execution_count": 17,
   "id": "1e70c028",
   "metadata": {},
   "outputs": [
    {
     "name": "stdout",
     "output_type": "stream",
     "text": [
      "45\n"
     ]
    }
   ],
   "source": [
    "i = 1\n",
    "result = 0\n",
    "\n",
    "while i <= 9:\n",
    "    result += i\n",
    "    i += 1\n",
    "\n",
    "print(result)"
   ]
  },
  {
   "cell_type": "code",
   "execution_count": 18,
   "id": "b2d73ee0",
   "metadata": {},
   "outputs": [
    {
     "name": "stdout",
     "output_type": "stream",
     "text": [
      "25\n"
     ]
    }
   ],
   "source": [
    "i = 1\n",
    "result = 0\n",
    "\n",
    "while i <= 9:\n",
    "    result += i\n",
    "    i += 2\n",
    "\n",
    "print(result)"
   ]
  },
  {
   "cell_type": "markdown",
   "id": "5e5348a3",
   "metadata": {},
   "source": [
    "### for 문"
   ]
  },
  {
   "cell_type": "markdown",
   "id": "426dee41",
   "metadata": {},
   "source": [
    "for문은 in 뒤에 데이터를 첫번째 인덱스부터 차례대로 하나씩 방문한다.<br>\n",
    "in 뒤에는 리스트, 튜플등이 올 수 있다."
   ]
  },
  {
   "cell_type": "code",
   "execution_count": 21,
   "id": "08e9d182",
   "metadata": {},
   "outputs": [
    {
     "name": "stdout",
     "output_type": "stream",
     "text": [
      "45\n"
     ]
    }
   ],
   "source": [
    "result = 0\n",
    "\n",
    "for i in range(1,10):\n",
    "    result += i\n",
    "    \n",
    "print(result)"
   ]
  },
  {
   "cell_type": "code",
   "execution_count": 30,
   "id": "100a26a1",
   "metadata": {},
   "outputs": [
    {
     "name": "stdout",
     "output_type": "stream",
     "text": [
      "1 번 학생은 합격입니다\n",
      "2 번 학생은 합격입니다\n",
      "5 번 학생은 합격입니다\n"
     ]
    }
   ],
   "source": [
    "#합격한 사람 통지해주기\n",
    "scores = [90, 85, 77, 65, 97]\n",
    "\n",
    "for i in range(len(scores)):\n",
    "    if scores[i] >= 80:\n",
    "        print(i+1,\"번 학생은 합격입니다\")"
   ]
  },
  {
   "cell_type": "code",
   "execution_count": 31,
   "id": "dda236c1",
   "metadata": {},
   "outputs": [
    {
     "name": "stdout",
     "output_type": "stream",
     "text": [
      "1 번 학생은 합격입니다\n",
      "5 번 학생은 합격입니다\n"
     ]
    }
   ],
   "source": [
    "#continue를 사용해 컨닝한 학생들 무시하기\n",
    "\n",
    "scores = [90, 85, 77, 65, 97]\n",
    "cheating_list = {2,4}\n",
    "\n",
    "\n",
    "for i in range(len(scores)):\n",
    "    if i+1 in cheating_list:\n",
    "        continue\n",
    "    if scores[i] >= 80:\n",
    "        print(i+1,\"번 학생은 합격입니다\")"
   ]
  },
  {
   "cell_type": "code",
   "execution_count": 36,
   "id": "8b92cb76",
   "metadata": {},
   "outputs": [
    {
     "name": "stdout",
     "output_type": "stream",
     "text": [
      "구구단 1단\n",
      "1\n",
      "2\n",
      "3\n",
      "4\n",
      "5\n",
      "6\n",
      "7\n",
      "8\n",
      "9\n",
      "구구단 2단\n",
      "2\n",
      "4\n",
      "6\n",
      "8\n",
      "10\n",
      "12\n",
      "14\n",
      "16\n",
      "18\n",
      "구구단 3단\n",
      "3\n",
      "6\n",
      "9\n",
      "12\n",
      "15\n",
      "18\n",
      "21\n",
      "24\n",
      "27\n",
      "구구단 4단\n",
      "4\n",
      "8\n",
      "12\n",
      "16\n",
      "20\n",
      "24\n",
      "28\n",
      "32\n",
      "36\n",
      "구구단 5단\n",
      "5\n",
      "10\n",
      "15\n",
      "20\n",
      "25\n",
      "30\n",
      "35\n",
      "40\n",
      "45\n",
      "구구단 6단\n",
      "6\n",
      "12\n",
      "18\n",
      "24\n",
      "30\n",
      "36\n",
      "42\n",
      "48\n",
      "54\n",
      "구구단 7단\n",
      "7\n",
      "14\n",
      "21\n",
      "28\n",
      "35\n",
      "42\n",
      "49\n",
      "56\n",
      "63\n",
      "구구단 8단\n",
      "8\n",
      "16\n",
      "24\n",
      "32\n",
      "40\n",
      "48\n",
      "56\n",
      "64\n",
      "72\n",
      "구구단 9단\n",
      "9\n",
      "18\n",
      "27\n",
      "36\n",
      "45\n",
      "54\n",
      "63\n",
      "72\n",
      "81\n"
     ]
    }
   ],
   "source": [
    "#구구단\n",
    "for i in range(1,10):\n",
    "    print(\"구구단 {}단\".format(i))\n",
    "    for j in range(1,10):\n",
    "        print(i*j)"
   ]
  }
 ],
 "metadata": {
  "kernelspec": {
   "display_name": "Python 3 (ipykernel)",
   "language": "python",
   "name": "python3"
  },
  "language_info": {
   "codemirror_mode": {
    "name": "ipython",
    "version": 3
   },
   "file_extension": ".py",
   "mimetype": "text/x-python",
   "name": "python",
   "nbconvert_exporter": "python",
   "pygments_lexer": "ipython3",
   "version": "3.9.7"
  }
 },
 "nbformat": 4,
 "nbformat_minor": 5
}
