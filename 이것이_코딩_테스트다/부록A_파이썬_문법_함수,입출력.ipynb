{
 "cells": [
  {
   "cell_type": "markdown",
   "id": "bc78c5d2",
   "metadata": {},
   "source": [
    "# 함수"
   ]
  },
  {
   "cell_type": "markdown",
   "id": "d1c4c33f",
   "metadata": {},
   "source": [
    "함수는 반복되는 코드를 계속해서 불러올 수 있게 해주는 효율적인 방법이다.<br>\n",
    "함수는 내부에서 사용되는 구조, 값을 전달받을 매개변수, 반환하는 리턴값을 지닐 수 있다<br>\n",
    "함수에 따라 매개변수나 리턴이 없을 수 있다."
   ]
  },
  {
   "cell_type": "markdown",
   "id": "704712af",
   "metadata": {},
   "source": [
    "def 함수명:<br>\n",
    "&nbsp;&nbsp;&nbsp;&nbsp;실행할 소스코드<br>\n",
    "&nbsp;&nbsp;&nbsp;&nbsp;retrun 반환값"
   ]
  },
  {
   "cell_type": "code",
   "execution_count": 2,
   "id": "227cba08",
   "metadata": {},
   "outputs": [
    {
     "data": {
      "text/plain": [
       "10"
      ]
     },
     "execution_count": 2,
     "metadata": {},
     "output_type": "execute_result"
    }
   ],
   "source": [
    "def add(a,b):\n",
    "    return a+b\n",
    "\n",
    "add(3,7)"
   ]
  },
  {
   "cell_type": "code",
   "execution_count": 5,
   "id": "c9a758c2",
   "metadata": {},
   "outputs": [
    {
     "name": "stdout",
     "output_type": "stream",
     "text": [
      "함수의 출력 : 10\n"
     ]
    }
   ],
   "source": [
    "def add(a,b):\n",
    "    print('함수의 출력 :',a+b)\n",
    "    \n",
    "add(3,7)"
   ]
  },
  {
   "cell_type": "markdown",
   "id": "0aea8e03",
   "metadata": {},
   "source": [
    "인자를 직접 설정할 수 도 있다."
   ]
  },
  {
   "cell_type": "code",
   "execution_count": 6,
   "id": "e4d4fa4d",
   "metadata": {},
   "outputs": [
    {
     "name": "stdout",
     "output_type": "stream",
     "text": [
      "함수의 출력 : 5\n"
     ]
    }
   ],
   "source": [
    "add(a=3,b=2)"
   ]
  },
  {
   "cell_type": "markdown",
   "id": "2da7467c",
   "metadata": {},
   "source": [
    "#### global 키워드"
   ]
  },
  {
   "cell_type": "markdown",
   "id": "91fc1c33",
   "metadata": {},
   "source": [
    "함수 안에서 함수 밖의 변수 데이터를 변경 해야 할 때 사용.<br>\n",
    "global 키워드를 변수로 지정하면 해당 함수에서는 지역변수를 만들지 않고,<br>\n",
    "함수 바깥에 선언된 변수를 바로 참조"
   ]
  },
  {
   "cell_type": "code",
   "execution_count": 7,
   "id": "83c1b873",
   "metadata": {},
   "outputs": [
    {
     "name": "stdout",
     "output_type": "stream",
     "text": [
      "10\n"
     ]
    }
   ],
   "source": [
    "a = 0\n",
    "\n",
    "def func():\n",
    "    global a\n",
    "    a +=1\n",
    "    \n",
    "for i in range(10):\n",
    "    func()\n",
    "\n",
    "print(a)"
   ]
  },
  {
   "cell_type": "markdown",
   "id": "90c82490",
   "metadata": {},
   "source": [
    "#### lambda 표현"
   ]
  },
  {
   "cell_type": "markdown",
   "id": "59b6aff7",
   "metadata": {},
   "source": [
    "함수를 한줄로 작성 할 수 있게 해준다."
   ]
  },
  {
   "cell_type": "code",
   "execution_count": 12,
   "id": "977394c9",
   "metadata": {},
   "outputs": [
    {
     "name": "stdout",
     "output_type": "stream",
     "text": [
      "10\n",
      "10\n"
     ]
    }
   ],
   "source": [
    "#일반식\n",
    "def add(a,b):\n",
    "    return a+b\n",
    "print(add(3,7))\n",
    "#람다식\n",
    "print((lambda a,b: a+b)(3,7))"
   ]
  },
  {
   "cell_type": "markdown",
   "id": "e0d1206d",
   "metadata": {},
   "source": [
    "# 입출력"
   ]
  },
  {
   "cell_type": "markdown",
   "id": "ca5305df",
   "metadata": {},
   "source": [
    "입력 예시<br>\n",
    "5<br>\n",
    "65 90 75 34 99\n",
    "---"
   ]
  },
  {
   "cell_type": "markdown",
   "id": "9af0b012",
   "metadata": {},
   "source": [
    "출력 예시<br>\n",
    "99 90 75 65 34"
   ]
  },
  {
   "cell_type": "markdown",
   "id": "d9436191",
   "metadata": {},
   "source": [
    "#데이터를 입력받을 때<br>\n",
    "파이썬이 데이터를 입력받을 때는 input()을 이용.<br>\n",
    "input()의 경우, 데이터를 <b>한줄의 문자열</b>로 받게 해준다.<br>\n",
    "이를 숫자로 처리하기 위해선 int()함수를 이용해줘야한다.<br><br>\n",
    "#여러개의 데이터를 입력받을 때<br>\n",
    "데이터가 공백으로 구분되어있을 때가 많다.<br>\n",
    "이럴 경우 띄어쓰기 단위로 문자열을 구분하여 처리하는 방법을 이용<br>\n",
    "<br>\n",
    "list(map(int,input().split())) 등의 방법으로 한다"
   ]
  },
  {
   "cell_type": "markdown",
   "id": "f3dc6ba9",
   "metadata": {},
   "source": [
    "list(map(int,input().split()))의 동작 과정 : <br><br>\n",
    "\n",
    "1. input()으로 입력을 받는다.\n",
    "2. split()으로 공백단위로 쪼개준다\n",
    "3. map을 이용해 해당 리스트의 모든 원소에 int()함수를 적용한다\n",
    "4. 최종 결과를 list()로 바꿔준다"
   ]
  },
  {
   "cell_type": "markdown",
   "id": "b5bd6efa",
   "metadata": {},
   "source": [
    "### 입력을 받기 위한 전형적인 코드"
   ]
  },
  {
   "cell_type": "code",
   "execution_count": 15,
   "id": "bc989b81",
   "metadata": {},
   "outputs": [
    {
     "name": "stdout",
     "output_type": "stream",
     "text": [
      "5\n",
      "65 90 75 34 99\n",
      "[99, 90, 75, 65, 34]\n"
     ]
    }
   ],
   "source": [
    "# input 값\n",
    "# 5\n",
    "# 65 90 75 34 99\n",
    "\n",
    "\n",
    "#데이터의 개수\n",
    "n = int(input())\n",
    "#각 데이터를 공백으로 구별\n",
    "data = list(map(int,input().split()))\n",
    "\n",
    "data.sort(reverse = True)\n",
    "print(data)"
   ]
  },
  {
   "cell_type": "markdown",
   "id": "5a8e65bc",
   "metadata": {},
   "source": [
    "##### 하지만 input함수는 속도가 느리므로, sys.stdin.readline()이 권장됨"
   ]
  },
  {
   "cell_type": "code",
   "execution_count": 27,
   "id": "95351f53",
   "metadata": {},
   "outputs": [
    {
     "data": {
      "text/plain": [
       "''"
      ]
     },
     "execution_count": 27,
     "metadata": {},
     "output_type": "execute_result"
    }
   ],
   "source": [
    "import sys\n",
    "sys.stdin.readline().rstrip()"
   ]
  },
  {
   "cell_type": "markdown",
   "id": "6f1b6c9a",
   "metadata": {},
   "source": [
    "#### rstrip <br>\n",
    "rstrip : 인자로 전달된 문자를 String의 오른쪽에서 제거한다<br>\n",
    "readline()으로 입력하면, 입력한 다음 치는 enter가 줄 바꿈 기호로 \"입력\" 된다.<br>\n",
    "이 공백 문자를 제거해주기 위해 rstrip()함수를 이용해야 한다.\n",
    "<br><br>\n",
    "주피터는 stdin을 실행시키지 않는다. 다른곳에선 될꺼다."
   ]
  },
  {
   "cell_type": "markdown",
   "id": "e476c393",
   "metadata": {},
   "source": [
    "#### 가로로 출력\n",
    "\n",
    "\n",
    "데이터를 가로로 출력해주기 위해서는 , 나 +를 이용할 수 있다. (숫자와 문자열의 덧셈만 주의)\n",
    "\n",
    "#### 세로로 출력\n",
    "\n",
    "파이썬의 print문은 출력이후 줄을 바꾸는걸 수행한다."
   ]
  },
  {
   "cell_type": "markdown",
   "id": "7f9c73cb",
   "metadata": {},
   "source": [
    "# "
   ]
  }
 ],
 "metadata": {
  "kernelspec": {
   "display_name": "Python 3 (ipykernel)",
   "language": "python",
   "name": "python3"
  },
  "language_info": {
   "codemirror_mode": {
    "name": "ipython",
    "version": 3
   },
   "file_extension": ".py",
   "mimetype": "text/x-python",
   "name": "python",
   "nbconvert_exporter": "python",
   "pygments_lexer": "ipython3",
   "version": "3.9.7"
  }
 },
 "nbformat": 4,
 "nbformat_minor": 5
}
