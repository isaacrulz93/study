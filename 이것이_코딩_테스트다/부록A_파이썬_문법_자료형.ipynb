{
 "cells": [
  {
   "cell_type": "markdown",
   "id": "8f549df3",
   "metadata": {},
   "source": [
    "# 자료형\n",
    "\n",
    "자료형은 프로그래밍의 첫걸음!!"
   ]
  },
  {
   "cell_type": "markdown",
   "id": "9186f019",
   "metadata": {},
   "source": [
    "### 수 자료형\n",
    "\n",
    "숫자 자료형(Number)는 가장 기본적인 자료형이다.<br>"
   ]
  },
  {
   "cell_type": "markdown",
   "id": "a7b27afd",
   "metadata": {},
   "source": [
    "#### 정수형\n",
    "\n",
    "정수형(Integer)은 정수를 다루는 자료형이며, 양의정수,0,음의정수가 있다. "
   ]
  },
  {
   "cell_type": "code",
   "execution_count": 11,
   "id": "35d3ebf0",
   "metadata": {},
   "outputs": [
    {
     "name": "stdout",
     "output_type": "stream",
     "text": [
      "1000\n",
      "-7\n",
      "0\n"
     ]
    }
   ],
   "source": [
    "#양의 정수\n",
    "a = 1000\n",
    "print(a)\n",
    "\n",
    "#음의 정수\n",
    "a = -7\n",
    "print(a)\n",
    "\n",
    "# 0\n",
    "a = 0\n",
    "print(a)"
   ]
  },
  {
   "cell_type": "markdown",
   "id": "86d8e600",
   "metadata": {},
   "source": [
    "#### 실수형\n",
    "\n",
    "실수형(Real Number)는 소수점 아래의 데이터를 포함하는 수 자료형.<br>\n",
    "정수가 0인 소수는 0을 생각하고 표현 할 수 있다."
   ]
  },
  {
   "cell_type": "code",
   "execution_count": 12,
   "id": "c576f12f",
   "metadata": {},
   "outputs": [
    {
     "name": "stdout",
     "output_type": "stream",
     "text": [
      "157.93\n",
      "-123.5\n",
      "5.0\n",
      "-0.7\n"
     ]
    }
   ],
   "source": [
    "#양의 실수\n",
    "a = 157.93\n",
    "print(a)\n",
    "\n",
    "#음의 실수\n",
    "a = -123.5\n",
    "print(a)\n",
    "\n",
    "#소수부가 0일때\n",
    "a = 5.\n",
    "print(a)\n",
    "\n",
    "#정수부가 0일때\n",
    "a = -.7\n",
    "print(a)"
   ]
  },
  {
   "cell_type": "markdown",
   "id": "981a5a53",
   "metadata": {},
   "source": [
    "#### 지수 표현 방식\n",
    "\n",
    "유효숫자e$^{지수}$ = 유효숫자 $\\times 10^{지수}$<br><br>\n",
    "이렇게 표현하면 더 쉽게 표현 할 수 있다."
   ]
  },
  {
   "cell_type": "code",
   "execution_count": 13,
   "id": "c3f11d38",
   "metadata": {},
   "outputs": [
    {
     "name": "stdout",
     "output_type": "stream",
     "text": [
      "1000000000.0\n",
      "625.2\n",
      "3.954\n"
     ]
    }
   ],
   "source": [
    "#10억의 표현\n",
    "a = 1e9\n",
    "print(a)\n",
    "\n",
    "#625.2\n",
    "a = 6.252e2\n",
    "print(a)\n",
    "\n",
    "#3.954\n",
    "a = 3954e-3\n",
    "print(a)"
   ]
  },
  {
   "cell_type": "markdown",
   "id": "8782a74b",
   "metadata": {},
   "source": [
    "#### 부동 소수점(Floating-point)\n",
    "\n",
    "컴퓨터는 실수를 처리할때 4byte, 8byte 등의 \"고정된 크기의 메모리\"를 이용하며, 이를 부동소수점이라 한다.\n",
    "이렇기 때문에, 소수의 덧셈을 할때 값을 정확하게 표현하지 못할 수 있다."
   ]
  },
  {
   "cell_type": "code",
   "execution_count": 14,
   "id": "480dd12b",
   "metadata": {},
   "outputs": [
    {
     "name": "stdout",
     "output_type": "stream",
     "text": [
      "0.8999999999999999\n",
      "False\n"
     ]
    }
   ],
   "source": [
    "a = 0.3 + 0.6\n",
    "print(a)\n",
    "\n",
    "if a==0.9:\n",
    "    print(True)\n",
    "else:\n",
    "    print(False)"
   ]
  },
  {
   "cell_type": "markdown",
   "id": "c329d5d0",
   "metadata": {},
   "source": [
    "<b>0.3과 0.6을 더했지만 0.9가 아닌것을 확인 할 수있다.</b>\n",
    "\n",
    "이를 해결하기 위해 round() 함수를 이용 할 수 있다.<br>\n",
    "round() 함수는 round(a,b)꼴로 인자(Argument)를 넣으며,<br>\n",
    "첫번째는 실수형 데이터, 두번째는 반올림하고자 하는 위치 -1 이다.<br><br>\n",
    "\n",
    "123.456을 소수 셋째 자리에서 반올림 하려면, round(123.456,2) 이며, 123.46이 나온다"
   ]
  },
  {
   "cell_type": "code",
   "execution_count": 15,
   "id": "2004086b",
   "metadata": {
    "scrolled": true
   },
   "outputs": [
    {
     "name": "stdout",
     "output_type": "stream",
     "text": [
      "0.9\n",
      "True\n"
     ]
    }
   ],
   "source": [
    "a = round(0.3 + 0.6,4)\n",
    "print(a)\n",
    "\n",
    "if a == 0.9:\n",
    "    print('True')\n",
    "else:\n",
    "    print('False')\n",
    "    \n",
    "#원하던 0.9가 나오는것을 확인 할 수 있다."
   ]
  },
  {
   "cell_type": "markdown",
   "id": "4416bb3f",
   "metadata": {},
   "source": [
    "#### 수 자료형의 연산"
   ]
  },
  {
   "cell_type": "markdown",
   "id": "0298e46e",
   "metadata": {},
   "source": [
    "파이썬의 나누기 연산자(/)는 결과를 실수형으로 처리한다.<br>\n",
    "코딩 문제를 풀때는 나머지 연산자(%)나 몫 연산자(//)를 이용할 때가 많다고 한다"
   ]
  },
  {
   "cell_type": "code",
   "execution_count": 17,
   "id": "becf713d",
   "metadata": {},
   "outputs": [
    {
     "name": "stdout",
     "output_type": "stream",
     "text": [
      "2.3333333333333335\n",
      "1\n",
      "2\n",
      "343\n"
     ]
    }
   ],
   "source": [
    "a = 7\n",
    "b = 3\n",
    "\n",
    "#나누기\n",
    "print(a/b)\n",
    "\n",
    "#나머지\n",
    "print(a%b)\n",
    "\n",
    "#몫\n",
    "print(a//b)\n",
    "\n",
    "#거듭제곱\n",
    "print(a**b)"
   ]
  },
  {
   "cell_type": "markdown",
   "id": "3a34644b",
   "metadata": {},
   "source": [
    "### 리스트 자료형<br>\n",
    "리스트는 여러 개의 데이터를 처리하기 위할때 사용한다.<br>\n",
    "배열(Array) 형태를 채택하고 있으며, 연결 리스트 자료구조 기능을 포함하고있기 때문에(...??) &nbsp;  append(), remove()등을 지원한다."
   ]
  },
  {
   "cell_type": "markdown",
   "id": "e81ff09a",
   "metadata": {},
   "source": [
    "#### 리스트 만들기\n",
    "\n",
    "리스트는 대괄호 [ ] 안에 원소를 넣어 초기화 하며, 쉼표(,)로 원소를 구분한다.<br>\n",
    "리스트의 원소에 접근하기 위해서는 인덱스(index)값을 괄호 안에 넣는다. 인덱스는 0부터 시작<br>\n",
    "비어있는 리스트를 선언하기 위해서는 list()나 [ ] 만 입력해서 만들도록 한다."
   ]
  },
  {
   "cell_type": "code",
   "execution_count": 18,
   "id": "40c4ba29",
   "metadata": {},
   "outputs": [
    {
     "name": "stdout",
     "output_type": "stream",
     "text": [
      "[1, 2, 3, 4, 5, 6, 7, 8, 9]\n",
      "5\n",
      "[]\n",
      "[]\n"
     ]
    }
   ],
   "source": [
    "a = [1,2,3,4,5,6,7,8,9]\n",
    "print(a)\n",
    "\n",
    "#인덱스4에 접근(5번째에 접근)\n",
    "print(a[4])\n",
    "\n",
    "#빈 리스트 만들기\n",
    "a = list()\n",
    "print(a)\n",
    "\n",
    "a = []\n",
    "print(a)"
   ]
  },
  {
   "cell_type": "code",
   "execution_count": 19,
   "id": "1cd07292",
   "metadata": {},
   "outputs": [
    {
     "name": "stdout",
     "output_type": "stream",
     "text": [
      "[0, 0, 0, 0, 0, 0, 0, 0, 0, 0]\n"
     ]
    }
   ],
   "source": [
    "#크기가 N이고, 모든값이 0인 1차원 리스트 초기화(만드는법)\n",
    "\n",
    "n = 10\n",
    "a = [0] * n\n",
    "print(a)"
   ]
  },
  {
   "cell_type": "markdown",
   "id": "6fa67e19",
   "metadata": {},
   "source": [
    "#### 리스트의 인덱싱과 슬라이싱\n",
    "\n",
    "인덱싱 = \"인덱스값을 입력하여 특정 원소에 접근하는것\"<br>\n",
    "정수로 표현하며 음의정수를 이용시 역순으로 탐색."
   ]
  },
  {
   "cell_type": "code",
   "execution_count": 22,
   "id": "58fc3ca7",
   "metadata": {},
   "outputs": [
    {
     "name": "stdout",
     "output_type": "stream",
     "text": [
      "9\n",
      "7\n",
      "[1, 2, 3, 7, 5, 6, 7, 8, 9]\n",
      "[2, 3, 7]\n"
     ]
    }
   ],
   "source": [
    "a = [1,2,3,4,5,6,7,8,9]\n",
    "\n",
    "#뒤에서 첫번째\n",
    "print(a[-1])\n",
    "\n",
    "#뒤에서 세번째\n",
    "print(a[-3])\n",
    "\n",
    "#네번째 원소 값 변경\n",
    "a[3] = 7\n",
    "print(a)\n",
    "\n",
    "#2번째~4번째 원소 인덱싱\n",
    "print(a[1:4])"
   ]
  },
  {
   "cell_type": "markdown",
   "id": "96ad15af",
   "metadata": {},
   "source": [
    "#### 리스트 컴프리헨션\n",
    "리스트를 초기화(만드는) 하는 방법중 하나<br>\n",
    "대괄호([ ])안에 조건문과 반복문을 넣어 리스트를 만들 수 있다."
   ]
  },
  {
   "cell_type": "code",
   "execution_count": 48,
   "id": "7e5b7a72",
   "metadata": {},
   "outputs": [
    {
     "name": "stdout",
     "output_type": "stream",
     "text": [
      "[1, 3, 5, 7, 9, 11, 13, 15, 17, 19]\n"
     ]
    }
   ],
   "source": [
    "#0~19까지 숫자중 홀수만 출력하는 리스트\n",
    "array = [i for i in range(20) if i%2 ==1]\n",
    "print(array)"
   ]
  },
  {
   "cell_type": "code",
   "execution_count": 50,
   "id": "538b1b01",
   "metadata": {},
   "outputs": [
    {
     "name": "stdout",
     "output_type": "stream",
     "text": [
      "[1, 3, 5, 7, 9, 11, 13, 15, 17, 19]\n"
     ]
    }
   ],
   "source": [
    "#원래대로 할 경우 표현법\n",
    "array = []\n",
    "for i in range(20):\n",
    "    if i%2 ==1:\n",
    "        array.append(i)\n",
    "        \n",
    "print(array)"
   ]
  },
  {
   "cell_type": "markdown",
   "id": "b8ceb6b7",
   "metadata": {},
   "source": [
    "###### sandbox! : 둘의 시간을 비교해보자!"
   ]
  },
  {
   "cell_type": "code",
   "execution_count": 69,
   "id": "414dcaa0",
   "metadata": {},
   "outputs": [
    {
     "name": "stdout",
     "output_type": "stream",
     "text": [
      "소요된 시간 :  0.3199887275695801\n"
     ]
    }
   ],
   "source": [
    "import time\n",
    "\n",
    "#0~19까지 숫자중 홀수만 출력하는 리스트\n",
    "#애초에 홀수만 출력시\n",
    "start_time = time.time()\n",
    "\n",
    "\n",
    "array = [i for i in range(1,10000000,2)]\n",
    "\n",
    "end_time = time.time()\n",
    "print(\"소요된 시간 : \",end_time - start_time)"
   ]
  },
  {
   "cell_type": "code",
   "execution_count": 51,
   "id": "f78faa7d",
   "metadata": {},
   "outputs": [
    {
     "name": "stdout",
     "output_type": "stream",
     "text": [
      "소요된 시간 :  0.8730025291442871\n"
     ]
    }
   ],
   "source": [
    "import time\n",
    "\n",
    "#0~19까지 숫자중 홀수만 출력하는 리스트\n",
    "start_time = time.time()\n",
    "\n",
    "\n",
    "array = [i for i in range(10000000) if i%2 ==1]\n",
    "\n",
    "end_time = time.time()\n",
    "\n",
    "\n",
    "print(\"소요된 시간 : \",end_time - start_time)"
   ]
  },
  {
   "cell_type": "code",
   "execution_count": 52,
   "id": "7a3314de",
   "metadata": {},
   "outputs": [
    {
     "name": "stdout",
     "output_type": "stream",
     "text": [
      "소요된 시간 :  1.5560085773468018\n"
     ]
    }
   ],
   "source": [
    "import time\n",
    "\n",
    "#원래대로 할 경우 표현법\n",
    "start_time = time.time()\n",
    "\n",
    "array = []\n",
    "for i in range(10000000):\n",
    "    if i%2 ==1:\n",
    "        array.append(i)\n",
    "        \n",
    "        \n",
    "end_time = time.time()       \n",
    "print(\"소요된 시간 : \",end_time - start_time)"
   ]
  },
  {
   "cell_type": "markdown",
   "id": "6628ee67",
   "metadata": {},
   "source": [
    "list comprehension이 더 빠른것을 확인 할 수 있다."
   ]
  },
  {
   "cell_type": "code",
   "execution_count": 57,
   "id": "08a3170f",
   "metadata": {},
   "outputs": [
    {
     "name": "stdout",
     "output_type": "stream",
     "text": [
      "[1, 4, 9, 16, 25, 36, 49, 64, 81]\n"
     ]
    }
   ],
   "source": [
    "#1부터 9까지의 수의 제곱값을 포함하는 리스트\n",
    "array = [i*i for i in range(1,10)]\n",
    "print(array)"
   ]
  },
  {
   "cell_type": "markdown",
   "id": "28ad6490",
   "metadata": {},
   "source": [
    "N $\\times$ M 크기의 2차원을 초기화 할때"
   ]
  },
  {
   "cell_type": "code",
   "execution_count": 71,
   "id": "8cc86d3a",
   "metadata": {},
   "outputs": [
    {
     "name": "stdout",
     "output_type": "stream",
     "text": [
      "[[0, 0, 0, 0], [0, 0, 0, 0], [0, 0, 0, 0]]\n"
     ]
    }
   ],
   "source": [
    "#3*4 크기의 2차원을 초기화해보자\n",
    "n = 3\n",
    "m = 4\n",
    "array = [[0] * m for _ in range(n)]\n",
    "print(array)"
   ]
  },
  {
   "cell_type": "markdown",
   "id": "69b2cd4f",
   "metadata": {},
   "source": [
    "특정크기의 2차원 리스트를 초기화 하기 위해서는 반드시 리스트 컴프리헨션을 이용해야한다.<br>\n",
    "다음과 같이 N $\\times$ M 크기를 초기화 하면 잘못된 결과가 나올 수 있다"
   ]
  },
  {
   "cell_type": "code",
   "execution_count": 72,
   "id": "c1c0536e",
   "metadata": {},
   "outputs": [
    {
     "name": "stdout",
     "output_type": "stream",
     "text": [
      "[[0, 0, 0, 0], [0, 0, 0, 0], [0, 0, 0, 0]]\n",
      "[[0, 5, 0, 0], [0, 5, 0, 0], [0, 5, 0, 0]]\n"
     ]
    }
   ],
   "source": [
    "#잘못된 방법\n",
    "n = 3\n",
    "m = 4\n",
    "array = [[0]*m]*n\n",
    "print(array)\n",
    "\n",
    "array[1][1] = 5\n",
    "print(array)"
   ]
  },
  {
   "cell_type": "markdown",
   "id": "ed55684e",
   "metadata": {},
   "source": [
    "무엇이 문제냐면, 나는 array[1][1] = 5를 통해 [1][1]만 5로 바꿔주고 싶었던건데,<br>\n",
    "모든 리스트의 1번째 인덱스가 다 변해버렸다.<br>\n",
    "Why?<br>\n",
    "[ ]$*$n 의 연산에서, 3개의 리스트를 같은 객체로 인식했기 떄문이다.<br>\n",
    "이러한 이유로 2차원을 잘 초기화 하기 위해서는 list comprehension을 이용해야 한다"
   ]
  },
  {
   "cell_type": "markdown",
   "id": "61934d6e",
   "metadata": {},
   "source": [
    "---\n",
    "<b>*tip*</b><br>\n",
    "파이썬에서 반복은 하되, 변수의 값을 무시하고자 할때는 언더바(_)를 자주 사용한다."
   ]
  },
  {
   "cell_type": "code",
   "execution_count": 53,
   "id": "811f552e",
   "metadata": {},
   "outputs": [
    {
     "name": "stdout",
     "output_type": "stream",
     "text": [
      "45\n"
     ]
    }
   ],
   "source": [
    "#반복하는 변수의 값이 중요하다.\n",
    "summary = 0\n",
    "for i in range(10):\n",
    "    summary += i\n",
    "print(summary)"
   ]
  },
  {
   "cell_type": "code",
   "execution_count": 54,
   "id": "b4c05ff9",
   "metadata": {
    "scrolled": true
   },
   "outputs": [
    {
     "name": "stdout",
     "output_type": "stream",
     "text": [
      "Hello World\n",
      "Hello World\n",
      "Hello World\n",
      "Hello World\n",
      "Hello World\n"
     ]
    }
   ],
   "source": [
    "#반복하는 변수의 값이 중요하지 않다.\n",
    "for _ in range(5):\n",
    "    print(\"Hello World\")"
   ]
  },
  {
   "cell_type": "markdown",
   "id": "9e191a14",
   "metadata": {},
   "source": [
    "---"
   ]
  },
  {
   "cell_type": "markdown",
   "id": "85cadc0d",
   "metadata": {},
   "source": [
    "#### 리스트 관련 기타 메서드"
   ]
  },
  {
   "cell_type": "markdown",
   "id": "290b5fe6",
   "metadata": {},
   "source": [
    "<table width = '100%' border =\"1\" align = 'center'>\n",
    "    <!--테이블 헤드-->\n",
    "    <th align='center'>메서드명</th>\n",
    "    <th align='center'>사용법</th>\n",
    "    <th>설명</th>\n",
    "    <th>시간 복잡도</th>\n",
    "    <tr><!-- 첫줄 -->\n",
    "        <td>append()</td>\n",
    "        <td>변수명.append()</td>\n",
    "        <td>리스트에 원소를 하나 삽입할 때 사용</td>\n",
    "        <td>$O(1)$</td>\n",
    "    </tr>    \n",
    "    <tr><!-- 두번째 줄 -->\n",
    "        <td rowspan = '2'>sort()</td>\n",
    "        <td>변수명.sort()</td>        \n",
    "        <td>기본 정렬 기능, 오름차순 정렬</td>\n",
    "        <td rowspan ='2'>$O(NlogN)$</td>\n",
    "    </tr>        \n",
    "    <tr><!-- 세번째 줄 -->\n",
    "        <!--<td></td>-->\n",
    "        <td>변수명.sort(reverse = True)</td>        \n",
    "        <td>내림차순으로 정렬</td>\n",
    "        <!--<td></td>-->\n",
    "    </tr>\n",
    "    <tr><!-- 네번째 줄 -->\n",
    "        <td>reverse()</td>\n",
    "        <td>변수명.reverse()</td>        \n",
    "        <td>리스트의 순서를 바꾼다</td>\n",
    "        <td>$O(N)$</td>\n",
    "        <!--<td></td>-->\n",
    "    </tr>\n",
    "    <tr><!-- 다섯번째 줄 -->\n",
    "        <td>insert()</td>\n",
    "        <td>변수명.insert(삽입할 위치의 인덱스, 삽입할 값)</td>        \n",
    "        <td>특정한 인덱스 위치에 삽입할 떄 사용</td>\n",
    "        <td>$O(N)$</td>\n",
    "    </tr>\n",
    "    <tr><!-- 여섯번째 줄 -->\n",
    "        <td>count()</td>\n",
    "        <td>변수명.count(특정값)</td>        \n",
    "        <td>특정한 값을 가지는 데이터의 갯수 파악</td>\n",
    "        <td>$O(N)$</td>\n",
    "    </tr>\n",
    "    <tr><!-- 여섯번째 줄 -->\n",
    "        <td>remove()</td>\n",
    "        <td>변수명.remove(특정값)</td>        \n",
    "        <td>특정한 값을 갖는 원소를 제거. 원소가 여러개면 하나만 제거</td>\n",
    "        <td>$O(N)$</td>\n",
    "    </tr>\n",
    "    \n",
    "</table>"
   ]
  },
  {
   "cell_type": "code",
   "execution_count": 75,
   "id": "723efaab",
   "metadata": {},
   "outputs": [
    {
     "name": "stdout",
     "output_type": "stream",
     "text": [
      "기본 리스트 :  [1, 4, 3]\n",
      "삽입 :  [1, 4, 3, 2]\n",
      "오름차순 정렬 :  [1, 2, 3, 4]\n",
      "내림차순 정렬 :  [4, 3, 2, 1]\n",
      "원소 뒤집기 :  [1, 2, 3, 4]\n",
      "인덱스 2에 3 추가 :  [1, 2, 3, 3, 4]\n",
      "3의 개수는 :  2\n",
      "값이 1인 데이터 삭제 :  [2, 3, 3, 4]\n"
     ]
    }
   ],
   "source": [
    "a = [1,4,3]\n",
    "print(\"기본 리스트 : \",a)\n",
    "\n",
    "#리스트 원소 삽입\n",
    "a.append(2)\n",
    "print(\"삽입 : \",a)\n",
    "\n",
    "#오름차순 정렬\n",
    "a.sort()\n",
    "print(\"오름차순 정렬 : \",a)\n",
    "\n",
    "#내림차순 정렬\n",
    "a.sort(reverse = True)\n",
    "print(\"내림차순 정렬 : \",a)\n",
    "\n",
    "#리스트 원소 뒤집기\n",
    "a.reverse()\n",
    "print(\"원소 뒤집기 : \",a)\n",
    "\n",
    "#특정 인덱스에 데이터 추가\n",
    "a.insert(2,3)\n",
    "print(\"인덱스 2에 3 추가 : \",a)\n",
    "\n",
    "#특정 데이터 개수 세기\n",
    "print(\"3의 개수는 : \",a.count(3))\n",
    "\n",
    "#특정 데이터 값 삭제\n",
    "a.remove(1)\n",
    "print(\"값이 1인 데이터 삭제 : \",a)"
   ]
  },
  {
   "cell_type": "markdown",
   "id": "5131771e",
   "metadata": {},
   "source": [
    "---\n",
    "#### sandbox!\n",
    "\n",
    "remove 할때 없어지는 순서는?"
   ]
  },
  {
   "cell_type": "code",
   "execution_count": 76,
   "id": "483c32fc",
   "metadata": {},
   "outputs": [
    {
     "name": "stdout",
     "output_type": "stream",
     "text": [
      "[2, 3, 4, 1]\n"
     ]
    }
   ],
   "source": [
    "a= [1,2,3,4,1]\n",
    "a.remove(1)\n",
    "print(a)"
   ]
  },
  {
   "cell_type": "markdown",
   "id": "b45a0974",
   "metadata": {},
   "source": [
    "앞에 있는 순서대로 없어지는걸 확인할 수 있다!\n",
    "\n",
    "---"
   ]
  },
  {
   "cell_type": "markdown",
   "id": "6655d5dd",
   "metadata": {},
   "source": [
    "<b>insert</b><br>\n",
    "원소개수 N개일 때 insert()의 시간복잡도 = $O(N)$<br>\n",
    "append()가 시간복잡도 $O(1)$인것에 비하면 오래 걸린다<br>\n",
    "원소를 중간에 삽입하고, 리스트의 원소 위치를 조정해야하기 때문!<br><br>\n",
    "\n",
    "<b>remove</b><br>\n",
    "remove의 시간복잡도도 $O(N)$<br>\n",
    "insert와 마찬가지로, 원소를 중간에 삽입하고, 리스트의 원소 위치를 조정해야하기 때문!<br><br>"
   ]
  },
  {
   "cell_type": "code",
   "execution_count": 77,
   "id": "4df0b21b",
   "metadata": {},
   "outputs": [
    {
     "name": "stdout",
     "output_type": "stream",
     "text": [
      "[1, 2, 4]\n"
     ]
    }
   ],
   "source": [
    "#특정한 원소를 모두 없에고 싶을때\n",
    "\n",
    "a = [1,2,3,4,5,5,5]\n",
    "remove_set = {3,5}\n",
    "\n",
    "result = [i for i in a if i not in remove_set]\n",
    "print(result)"
   ]
  },
  {
   "cell_type": "markdown",
   "id": "951ce427",
   "metadata": {},
   "source": [
    "**해설<br>\n",
    "[i for i in a if i not in remove_set]<br>\n",
    "1. i : result에 i를 넣어줘라<br>\n",
    "2. for i in a : i는 a의 원소다<br>\n",
    "3. if i not in remove_set : 근데 i는 remove_set의 원소가 아닐때만!"
   ]
  },
  {
   "cell_type": "markdown",
   "id": "ceff4862",
   "metadata": {},
   "source": [
    "### 문자열 자료형"
   ]
  },
  {
   "cell_type": "markdown",
   "id": "7af5adba",
   "metadata": {},
   "source": [
    "#### 문자열 초기화"
   ]
  },
  {
   "cell_type": "markdown",
   "id": "f611faf8",
   "metadata": {},
   "source": [
    "문자열 자료를 초기화 할때는 따옴표를 이용하도록 한다! (\" \" , ' ')<br>\n",
    "문자열 안에 있는 따옴표와 중복되지 않도록만 조심하자. \\ 를 통해 문자열 안에 따옴표를 넣을 수 있다!"
   ]
  },
  {
   "cell_type": "code",
   "execution_count": 78,
   "id": "33dda5cb",
   "metadata": {},
   "outputs": [
    {
     "name": "stdout",
     "output_type": "stream",
     "text": [
      "Hello World\n",
      "Don't you know \"Python\"?\n"
     ]
    }
   ],
   "source": [
    "data ='Hello World'\n",
    "print(data)\n",
    "\n",
    "data = 'Don\\'t you know \"Python\"?'\n",
    "print(data)"
   ]
  },
  {
   "cell_type": "markdown",
   "id": "c6cb4bde",
   "metadata": {},
   "source": [
    "#### 문자열 연산\n",
    "문자열끼리 연산도 할 수 있다"
   ]
  },
  {
   "cell_type": "code",
   "execution_count": 79,
   "id": "560a272b",
   "metadata": {},
   "outputs": [
    {
     "name": "stdout",
     "output_type": "stream",
     "text": [
      "Hello World\n"
     ]
    }
   ],
   "source": [
    "a = \"Hello\"\n",
    "b = \"World\"\n",
    "\n",
    "print(a + \" \" + b)"
   ]
  },
  {
   "cell_type": "code",
   "execution_count": 80,
   "id": "5e7e37ae",
   "metadata": {},
   "outputs": [
    {
     "name": "stdout",
     "output_type": "stream",
     "text": [
      "StringStringString\n"
     ]
    }
   ],
   "source": [
    "a = \"String\"\n",
    "\n",
    "print(a*3)"
   ]
  },
  {
   "cell_type": "code",
   "execution_count": 82,
   "id": "08385dd1",
   "metadata": {},
   "outputs": [
    {
     "name": "stdout",
     "output_type": "stream",
     "text": [
      "CD\n"
     ]
    }
   ],
   "source": [
    "a = \"ABCDEF\"\n",
    "\n",
    "print(a[2:4])"
   ]
  },
  {
   "cell_type": "markdown",
   "id": "7cd9fd78",
   "metadata": {},
   "source": [
    "### 튜플 자료형"
   ]
  },
  {
   "cell_type": "markdown",
   "id": "9689d455",
   "metadata": {},
   "source": [
    "튜플의 값은 변경할 수 없다.<br>\n",
    "튜플은 ()를 이용한다"
   ]
  },
  {
   "cell_type": "code",
   "execution_count": 84,
   "id": "22424980",
   "metadata": {},
   "outputs": [
    {
     "name": "stdout",
     "output_type": "stream",
     "text": [
      "(1, 2, 3, 4)\n"
     ]
    },
    {
     "ename": "TypeError",
     "evalue": "'tuple' object does not support item assignment",
     "output_type": "error",
     "traceback": [
      "\u001b[1;31m---------------------------------------------------------------------------\u001b[0m",
      "\u001b[1;31mTypeError\u001b[0m                                 Traceback (most recent call last)",
      "\u001b[1;32mC:\\Users\\ISAACB~1\\AppData\\Local\\Temp/ipykernel_15800/1539920695.py\u001b[0m in \u001b[0;36m<module>\u001b[1;34m\u001b[0m\n\u001b[0;32m      2\u001b[0m \u001b[0mprint\u001b[0m\u001b[1;33m(\u001b[0m\u001b[0ma\u001b[0m\u001b[1;33m)\u001b[0m\u001b[1;33m\u001b[0m\u001b[1;33m\u001b[0m\u001b[0m\n\u001b[0;32m      3\u001b[0m \u001b[1;33m\u001b[0m\u001b[0m\n\u001b[1;32m----> 4\u001b[1;33m \u001b[0ma\u001b[0m\u001b[1;33m[\u001b[0m\u001b[1;36m2\u001b[0m\u001b[1;33m]\u001b[0m \u001b[1;33m=\u001b[0m \u001b[1;36m7\u001b[0m\u001b[1;33m\u001b[0m\u001b[1;33m\u001b[0m\u001b[0m\n\u001b[0m",
      "\u001b[1;31mTypeError\u001b[0m: 'tuple' object does not support item assignment"
     ]
    }
   ],
   "source": [
    "a = (1,2,3,4)\n",
    "print(a)\n",
    "\n",
    "a[2] = 7"
   ]
  },
  {
   "cell_type": "markdown",
   "id": "239f263c",
   "metadata": {},
   "source": [
    "값을 변경하려 하면 오류가 생기는것을 확인 할 수 있다."
   ]
  },
  {
   "cell_type": "markdown",
   "id": "6f69eea4",
   "metadata": {},
   "source": [
    "튜플은 \"그래프\" 를 구현할 때 자주 사용된다.<br>\n",
    "다익스트라 최단거리 알고리즘에서 \"비용\"과 \"노드번호\"를 묶어서 사용하는것이 관례"
   ]
  },
  {
   "cell_type": "markdown",
   "id": "943c30cb",
   "metadata": {},
   "source": [
    "### 딕셔너리 자료형"
   ]
  },
  {
   "cell_type": "markdown",
   "id": "60bb6ba4",
   "metadata": {},
   "source": [
    "딕셔너리 자료형은 키(key)와 값(value)를 쌍으로 갖는 자료형이다. <br>"
   ]
  },
  {
   "cell_type": "markdown",
   "id": "d9d0ef1f",
   "metadata": {},
   "source": [
    "<table align = \"left\">\n",
    "    <th>키(Key)</th>\n",
    "    <th>값(Value)</th>    \n",
    "    <tr><!-- 첫줄-->\n",
    "        <td>사과</td>    \n",
    "        <td>Apple</td>\n",
    "    </tr>\n",
    "    <tr><!-- 둘째줄-->\n",
    "        <td>바나나</td>\n",
    "        <td>Banana</td>\n",
    "    </tr>    \n",
    "    <tr><!-- 셋째줄-->\n",
    "        <td>코코넛</td>\n",
    "        <td>Coconut</td>\n",
    "    </tr>\n",
    "    \n",
    "</table>"
   ]
  },
  {
   "cell_type": "markdown",
   "id": "ae4d2c97",
   "metadata": {},
   "source": [
    "파이썬의 딕셔너리 자료형은 내부적으로 해시테이블(Hash Table)을 이용하므로 기본적으로 $O(1)$의 시간에 처리할 수 있다. <br>\n",
    "아무튼 리스트보다 빠름"
   ]
  },
  {
   "cell_type": "code",
   "execution_count": 85,
   "id": "3b395c42",
   "metadata": {},
   "outputs": [
    {
     "name": "stdout",
     "output_type": "stream",
     "text": [
      "{'사과': 'Apple', '바나나': 'Banana', '코코넛': 'Coconut'}\n"
     ]
    }
   ],
   "source": [
    "data = dict()\n",
    "data['사과'] = 'Apple'\n",
    "data['바나나'] = 'Banana'\n",
    "data['코코넛'] = 'Coconut'\n",
    "\n",
    "print(data)"
   ]
  },
  {
   "cell_type": "markdown",
   "id": "de4e5145",
   "metadata": {},
   "source": [
    "딕셔너리 자료형에서는 \"원소 in 사전\"의 형태로 검색을 할 수 있다.<br>\n",
    "참고로, 리스트나 튜플에서도 이런식의 검색이 가능하다."
   ]
  },
  {
   "cell_type": "code",
   "execution_count": 91,
   "id": "061686f8",
   "metadata": {},
   "outputs": [
    {
     "data": {
      "text/plain": [
       "True"
      ]
     },
     "execution_count": 91,
     "metadata": {},
     "output_type": "execute_result"
    }
   ],
   "source": [
    "'사과' in data"
   ]
  },
  {
   "cell_type": "markdown",
   "id": "e24be2c4",
   "metadata": {},
   "source": [
    "####  딕셔너리 관련 함수"
   ]
  },
  {
   "cell_type": "code",
   "execution_count": 106,
   "id": "1d14f0b6",
   "metadata": {},
   "outputs": [
    {
     "name": "stdout",
     "output_type": "stream",
     "text": [
      "dict_keys(['사과', '바나나', '코코넛'])\n",
      "dict_values(['Apple', 'Banana', 'Coconut'])\n",
      "----------\n",
      "사과\n",
      "바나나\n",
      "코코넛\n",
      "----------\n",
      "Apple\n",
      "Banana\n",
      "Coconut\n"
     ]
    }
   ],
   "source": [
    "data = dict()\n",
    "data['사과'] = 'Apple'\n",
    "data['바나나'] = 'Banana'\n",
    "data['코코넛'] = 'Coconut'\n",
    "\n",
    "#키 추출\n",
    "key_list = data.keys()\n",
    "#값 추출\n",
    "value_list = data.values()\n",
    "\n",
    "print(key_list)\n",
    "print(value_list)\n",
    "print('----------')\n",
    "\n",
    "#각 키를 하나씩 출력\n",
    "for key in key_list:\n",
    "    print(key)\n",
    "print('----------')\n",
    "\n",
    "#각 키에 따른 값을 하나씩 출력\n",
    "for key in key_list:\n",
    "    print(data[key])"
   ]
  },
  {
   "cell_type": "markdown",
   "id": "ab4404a8",
   "metadata": {},
   "source": [
    "### 집합 자료형"
   ]
  },
  {
   "cell_type": "markdown",
   "id": "927ddaaf",
   "metadata": {},
   "source": [
    "파이썬에는 집합(set)를 처리하는 집합자료형이 있다.<br>\n",
    "기본적으로 리스트, 문자열을 통해 만들 수 있다. 특징은 다음과 같다<br>\n",
    "\n",
    "- 중복을 허용하지 않는다\n",
    "- 순서가 없다"
   ]
  },
  {
   "cell_type": "markdown",
   "id": "5e8885eb",
   "metadata": {},
   "source": [
    "집합은, 사전과 마찬가지로 검색할때 $O(1)$의 복잡도를 갖는다. (순서가 없기 때문)\n",
    "초기화 할 때는 set() 함수나 { }를 통해 한다."
   ]
  },
  {
   "cell_type": "code",
   "execution_count": 113,
   "id": "fc03f66c",
   "metadata": {},
   "outputs": [
    {
     "name": "stdout",
     "output_type": "stream",
     "text": [
      "{1, 2, 3, 4, 5}\n",
      "{1, 2, 3, 4, 5}\n"
     ]
    }
   ],
   "source": [
    "data = 1,1,2,3,4,4,5\n",
    "\n",
    "set1 = set(data)\n",
    "print(set1)\n",
    "\n",
    "set2 = {1,1,2,3,4,4,5}\n",
    "print(set2)"
   ]
  },
  {
   "cell_type": "markdown",
   "id": "8b07ddd7",
   "metadata": {},
   "source": [
    "### 집합의 연산"
   ]
  },
  {
   "cell_type": "markdown",
   "id": "864e4232",
   "metadata": {},
   "source": [
    "합집합 기호 : |<br>\n",
    "교집합 기호 : &<br>\n",
    "차집합 기호 : -<br>"
   ]
  },
  {
   "cell_type": "code",
   "execution_count": 114,
   "id": "e55b9d97",
   "metadata": {},
   "outputs": [
    {
     "name": "stdout",
     "output_type": "stream",
     "text": [
      "{1, 2, 3, 4, 5, 6, 7}\n",
      "{3, 4, 5}\n",
      "{1, 2}\n"
     ]
    }
   ],
   "source": [
    "a = set([1,2,3,4,5])\n",
    "b = set([3,4,5,6,7])\n",
    "\n",
    "print(a|b) #합집합\n",
    "print(a&b) #교집합\n",
    "print(a-b) #차집합"
   ]
  },
  {
   "cell_type": "markdown",
   "id": "8bbbf159",
   "metadata": {},
   "source": [
    "#### 집합 관련 함수"
   ]
  },
  {
   "cell_type": "markdown",
   "id": "edb46932",
   "metadata": {},
   "source": [
    "원소 더하기 : add() <br>\n",
    "원소 여러개 더하기 : update()<br>\n",
    "값 제거하기 : remove()  # 하나씩만 가능"
   ]
  },
  {
   "cell_type": "code",
   "execution_count": 118,
   "id": "6cec0e53",
   "metadata": {},
   "outputs": [
    {
     "name": "stdout",
     "output_type": "stream",
     "text": [
      "{1, 2, 3}\n",
      "{1, 2, 3, 4}\n",
      "{1, 2, 3, 4, 5, 6}\n",
      "{1, 2, 3, 4, 5}\n"
     ]
    }
   ],
   "source": [
    "data = set([1,2,3])\n",
    "print(data)\n",
    "\n",
    "data.add(4)\n",
    "print(data)\n",
    "\n",
    "data.update([5,6])\n",
    "print(data)\n",
    "\n",
    "data.remove(6)\n",
    "print(data)"
   ]
  }
 ],
 "metadata": {
  "kernelspec": {
   "display_name": "Python 3 (ipykernel)",
   "language": "python",
   "name": "python3"
  },
  "language_info": {
   "codemirror_mode": {
    "name": "ipython",
    "version": 3
   },
   "file_extension": ".py",
   "mimetype": "text/x-python",
   "name": "python",
   "nbconvert_exporter": "python",
   "pygments_lexer": "ipython3",
   "version": "3.9.7"
  }
 },
 "nbformat": 4,
 "nbformat_minor": 5
}
