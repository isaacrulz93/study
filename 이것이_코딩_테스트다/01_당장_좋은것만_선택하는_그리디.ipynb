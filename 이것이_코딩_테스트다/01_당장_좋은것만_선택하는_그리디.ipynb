{
 "cells": [
  {
   "cell_type": "markdown",
   "id": "bf89427d",
   "metadata": {},
   "source": [
    "# 그리디 알고리즘"
   ]
  },
  {
   "cell_type": "markdown",
   "id": "34be06c0",
   "metadata": {},
   "source": [
    "단순무식하게 문제를 푸는 알고리즘이다. 나중에 미칠 영향에 대해서는 나중에 생각하도록 한다<br>\n",
    "\n",
    "### -현재 상황에서, 최선의 선택만 하는 방법-"
   ]
  },
  {
   "cell_type": "markdown",
   "id": "f3ef71d2",
   "metadata": {},
   "source": [
    "정렬이나 최단경로등은 파훼법을 정확히 알고있어야 하지만, 그리디 알고리즘의 경우는 그렇지 않은 경우도 많다.<br>\n",
    "창의력 문제 - 문제를 풀기 위한 최소한의 아이디어를 떠올릴 수 있는가? - 를 요구한다.<br>\n",
    "보통 가장 큰 순서대로, 가장 작은 순서대로 등의 기준과 함께 나오며, 정렬 알고리즘과 짝짓는 경우가 많다.<br>"
   ]
  },
  {
   "cell_type": "markdown",
   "id": "a84b677a",
   "metadata": {},
   "source": [
    "## 거스름돈 문제\n",
    "\n",
    "내가 거스름돈으로 500, 100, 10원을 줄 수 있다.<br>\n",
    "N원을 거슬러 줘야할때, 거슬러 줘야할 최소 동전의 개수를 구하라(N은 10의 배수)<br><br>\n",
    "\n",
    "그리디 알고리즘을 적용하면 <b>'가장 큰 화폐부터 거슬러 준다'</b>의 방법으로 접근 할 수 있다."
   ]
  },
  {
   "cell_type": "markdown",
   "id": "efc8b397",
   "metadata": {},
   "source": [
    "---"
   ]
  },
  {
   "cell_type": "code",
   "execution_count": 1,
   "id": "82df8f7b",
   "metadata": {},
   "outputs": [
    {
     "name": "stdout",
     "output_type": "stream",
     "text": [
      "6\n"
     ]
    }
   ],
   "source": [
    "#거스름돈이 1260일때\n",
    "\n",
    "n = 1260\n",
    "count = 0\n",
    "\n",
    "coin_types =[500,100,50,10]\n",
    "\n",
    "for coin in coin_types:\n",
    "    count += n//coin\n",
    "    n %= coin\n",
    "    \n",
    "print(count)"
   ]
  },
  {
   "cell_type": "markdown",
   "id": "cbf646b2",
   "metadata": {},
   "source": [
    "for 문을 사용해 화폐의 종류만큼 반복을 수행한다. 화폐의 종류가 K개 일때, 복잡도는 $O(K)$이다.<br>\n",
    "동전의 금액 $n$과는 무관한걸 확인 할 수 있다.<br>\n",
    "이 알고리즘의 복잡도는 동전의 종류에만 영향을 받는다."
   ]
  },
  {
   "cell_type": "markdown",
   "id": "e8b91ea7",
   "metadata": {},
   "source": [
    "---"
   ]
  },
  {
   "cell_type": "markdown",
   "id": "4ef11000",
   "metadata": {},
   "source": [
    "대부분의 문제에서 그리디알고리즘은 '최적해'를 찾기 힘들다.<br>\n",
    "하지만, 그리디 알고리즘으로 답을 낼 수 있다는 보장이 있으면 매우 효과적이고 직관적인 방법이다.<br>\n",
    "그리디 알고리즘을 이용했을때는 이 해법이 정당한지 꼭 검토해야하며, 거스름돈 문제는<br>\n",
    "\n",
    "-동전의 단위들이 작은단위의 배수-\n",
    "\n",
    "이기 때문에 그리디 알고리즘으로 가능한 해법이다.<br>\n",
    "동전의 종류가 바뀌면 답도 바뀐다<br><br>\n",
    "금액 800원에 동전이 500,400,100원인 경우<br>\n",
    "그리디 알고리즘으론 [500,100,100,100]의 n=4가 해답이지만,<br>\n",
    "실제로는 [400,400]의 n=2로 해를 낼 수 있다."
   ]
  },
  {
   "cell_type": "markdown",
   "id": "c515cacf",
   "metadata": {},
   "source": [
    "## <2>실전문제/큰수의법칙"
   ]
  },
  {
   "cell_type": "markdown",
   "id": "fd77c306",
   "metadata": {},
   "source": [
    "동빈이의 큰 수의 법칙은 다양한 수로 이루어진 배열이 있을 때 <b>주어진 수들을 M번 더하여 가장 큰 수</b>를 만드는 법칙이다.<br>\n",
    "단, 배열의 특정한 인덱스(번호)에 해당하는 수가 <b>연속해서 K번을 초과하여 더해질 수 없는 것</b>이 이 법칙의 특징이다.<br><br>\n",
    "예를들어 순서대로 2,4,5,4,6 으로 이루어진 배열이 있을 때 M이 8이고 K가 3이라고 하면,<br>\n",
    "이 경우 특정한 인덱스의 수가 연속해서 세번까지만 더해질 수 있으므로 큰 수의 법칙에 따른 결과는 6+6+6+5+6+6+6+5인 46이 된다<br><br>\n",
    "단, 같은 숫자여도 인덱스가 다르면 다른 것으로 간주한다.<br>\n",
    "예를들면, 3,4,3,4,3으로 이루어진 배열이 있을때 M=7, K=2 라고 하면  2번째와 4번째 원소인 4를 번갈아 2번씩 더할 수 있다<br>\n",
    "4+4+4+4+4+4 = 28<br><br>\n",
    "\n",
    "Q :<br>\n",
    "i배열의 크기 N, 숫자를 더하는 횟수 M, 연속가능한 횟수 K가 있을때 큰수의 법칙에 따른 결과를 도출하시오<br><br>\n",
    "입력 조건 : \n",
    "- 첫줄에 N(2 $\\leq $ N $\\leq$ 1000),M(2$\\leq$M$\\leq$10,000),K(1$\\leq$10,000)의 자연수가 주어지며, 각 자연수는 공백으로 구분한다.\n",
    "- 둘째 줄에 N개의 자연수가 주어진다. 각 자연수는 공백으로 구분한다. 단, 각각의 자연수는 1이상 10,000 이하의 수로 주어진다.\n",
    "- 입력으로 주어지는 K는 항상 M보다 같거나 작다.<br><br>\n",
    "출력 조건 :\n",
    "- 첫째 줄에 동빈이의 큰 수의  법칙에 따라 더해진 답을 출력한다."
   ]
  },
  {
   "cell_type": "markdown",
   "id": "4c6b4491",
   "metadata": {},
   "source": [
    "ex:<br>input: <br>\n",
    "5 8 3<br>\n",
    "2 4 5 4 6\n",
    "\n",
    "output:<br>\n",
    "46"
   ]
  },
  {
   "cell_type": "markdown",
   "id": "1a4da04e",
   "metadata": {},
   "source": [
    "---\n",
    "MY IDEA : 음,,, 이런식으로 가야지 않을까..??<br>\n",
    "M//(K+1) #(K+1 개의 사이클로 돌거다)<br> \n",
    "M%(K+1)# (나머지 몫에 대해 남은 K만큼 진행해야한다)\n",
    "\n",
    "sudo<br>\n",
    "n,m,k = input()<br><br>\n",
    "\n",
    "max(n) = a<br>\n",
    "n.pop(a)<br>\n",
    "max(n) = b<br>\n",
    "\n",
    "result = M//(K+1) * (a + b) + M%(K+1) * (a)\n",
    "\n",
    "---"
   ]
  },
  {
   "cell_type": "code",
   "execution_count": 18,
   "id": "f5b6f835",
   "metadata": {},
   "outputs": [
    {
     "name": "stdout",
     "output_type": "stream",
     "text": [
      "5 8 3\n",
      "2 4 5 4 6\n",
      "5\n",
      "8\n",
      "3\n"
     ]
    }
   ],
   "source": [
    "#모범답안\n",
    "# N,M,K를 공백으로 구분해 입력받기\n",
    "input1 = input()\n",
    "input2 = input()\n",
    "n,m,k = map(int, input1.split())\n",
    "# N개의 수를 공백으로 구분해 입력받기\n",
    "data = list(map(int,input2.split()))\n",
    "\n",
    "data.sort()\n",
    "first = data[n-1]\n",
    "second = data[n-2]\n",
    "\n",
    "result = 0\n",
    "print(n)\n",
    "print(m)\n",
    "print(k)"
   ]
  },
  {
   "cell_type": "code",
   "execution_count": 19,
   "id": "bd9fb99b",
   "metadata": {},
   "outputs": [
    {
     "name": "stdout",
     "output_type": "stream",
     "text": [
      "46\n"
     ]
    }
   ],
   "source": [
    "while True:\n",
    "    for i in range(k): # 가장 큰 수 k번 더하기\n",
    "        if  m == 0 : #m이 0이면 반복문 탈출\n",
    "            break\n",
    "        result += first\n",
    "        m -= 1\n",
    "    if m == 0: #  m이 0이면 반복문 탈출\n",
    "        break\n",
    "    result += second # 두번째로 큰 수 더하기\n",
    "    m -= 1 # 더할때마다 1씩 빼기\n",
    "    \n",
    "print(result) # 최종답안출력"
   ]
  },
  {
   "cell_type": "markdown",
   "id": "a8a98b27",
   "metadata": {},
   "source": [
    "위 문제는 m $/leq 10,000$ 이므로, 위의 코드를 사용해도 되지만<br> \n",
    "크기가 100억이 넘어간다면 시간초과 판정을 받을것이다.<br>\n",
    "수학적 아이디어를 이용하여야한다."
   ]
  },
  {
   "cell_type": "markdown",
   "id": "553da2cf",
   "metadata": {},
   "source": [
    "N = 5<br>\n",
    "입력값 = 2,4,5,4,6 이라 하자<br>\n",
    "가장 큰 수 :6, 두번째 큰 수 : 5<br><br>\n",
    "M : 8이고, K=3이라면, 숫자의 합은 (6+6+6+5)+(6+6+6+5)로, 4개의 수열마다 반복될것이다."
   ]
  },
  {
   "cell_type": "code",
   "execution_count": 21,
   "id": "c01e8809",
   "metadata": {},
   "outputs": [
    {
     "name": "stdout",
     "output_type": "stream",
     "text": [
      "5 8 3\n",
      "2 4 5 4 6\n",
      "46\n"
     ]
    }
   ],
   "source": [
    "#모범답안 (내 idea와 같음)\n",
    "\n",
    "n,m,k = map(int, input().split())\n",
    "\n",
    "# N개의 수를 공백으로 구분\n",
    "data = list(map(int, input().split()))\n",
    "\n",
    "data.sort()\n",
    "first = data[n-1]\n",
    "second = data[n-2]\n",
    "\n",
    "#가장 큰 수가 더해지는 횟수\n",
    "count = m//(k+1) * k\n",
    "count += m%(k+1)\n",
    "\n",
    "result =0\n",
    "result += (count) * first # 가장 큰 수 더하기\n",
    "result += (m - count) * second\n",
    "\n",
    "print(result)"
   ]
  },
  {
   "cell_type": "markdown",
   "id": "ddca61ce",
   "metadata": {},
   "source": [
    "## <3>숫자카드게임"
   ]
  },
  {
   "cell_type": "markdown",
   "id": "e79f7bb4",
   "metadata": {},
   "source": [
    "여러개의 숫자 카드 중에서 가장 높은 숫자가 쓰인 카드 한장을 뽑는 게임.\n",
    "\n",
    " - 카드들은 N X M 의 형태로 되어있음. N: 행의개수, M:열의 개수\n",
    " - 먼저 뽑고자 하는 카드가 포함돼있는 행을 선택\n",
    " - 선택된 행에 포함된 카드들 중 가장 숫자가 낮은 카드를 뽑는다.\n",
    " - 처음에 카드를 고를 행을 선택할 때, 이후에 해당 행에서 가장 숫자가 낮은 카드를 뽑을 것을 고려해 최종적으로 높은 카드 뽑을 수 있도록 전략 짜야함\n",
    " \n",
    " 예를들어, 3 X 3 형태로 다음과 같이 카드가 있다고 하자<br><br>\n",
    " \n",
    " [3,1,2]<br>\n",
    " [4,1,4]<br>\n",
    " [2,2,2]<br>\n",
    " \n",
    " 이때, 1번줄이나 2번줄을 고르면 1을 뽑는것이므로,<br>\n",
    " 2를 출력해주는 3번줄을 골라야한다."
   ]
  },
  {
   "cell_type": "markdown",
   "id": "502080d4",
   "metadata": {},
   "source": [
    "입력조건 : \n",
    "- 첫째 줄에 숫자 카드들이 놓인 행의 개수 N과 열의 개수 M이 공백을 기준으로 하여 각각 자연수로 주어진다. (1 $ \\leq$ N,M $ \\leq $ 100)\n",
    "- 둘째 줄부터 N개의 줄에 걸쳐 각 카드에 적힌 숫자가 주어진다. 각 숫자는 1 이상 10,000 이하의 자연수이다.\n",
    "\n",
    "출력조건 :\n",
    "- 첫째 줄에 게임의 룰에 맞게 선택한 카드에 적힌 숫자를 출력한다."
   ]
  },
  {
   "cell_type": "markdown",
   "id": "ab136704",
   "metadata": {},
   "source": [
    "입력예시1 :<br>\n",
    "3 3<br>\n",
    "3 1 2<br>\n",
    "4 1 4<br>\n",
    "2 2 2<br>\n",
    "<br>\n",
    "출력예시1:<br>\n",
    "2\n",
    "\n",
    "입력예시2:<br>\n",
    "2 4<br>\n",
    "7 3 1 8<br>\n",
    "3 3 3 4<br>\n",
    "<br>\n",
    "출력예시2:<br>\n",
    "3"
   ]
  },
  {
   "cell_type": "code",
   "execution_count": 2,
   "id": "31e43261",
   "metadata": {},
   "outputs": [
    {
     "name": "stdout",
     "output_type": "stream",
     "text": [
      "2 4\n",
      "7 3 1 8\n",
      "3 3 3 4\n",
      "3\n"
     ]
    }
   ],
   "source": [
    "#min 함수를 이용한 방법\n",
    "\n",
    "#N,M을 공백으로 구분해 입력받기\n",
    "n,m = map(int,input().split())\n",
    "\n",
    "result =0\n",
    "\n",
    "for i in range(n):\n",
    "    data = list(map(int,input().split()))\n",
    "    #현재 줄에서 가장 작은 수 찾기\n",
    "    min_value = min(data)\n",
    "    #가장 작은 수 중에서 가장 큰 수 차기\n",
    "    result = max(result,min_value)\n",
    "    \n",
    "print(result)"
   ]
  },
  {
   "cell_type": "code",
   "execution_count": 3,
   "id": "70edcc59",
   "metadata": {},
   "outputs": [
    {
     "name": "stdout",
     "output_type": "stream",
     "text": [
      "2 4\n",
      "7 3 1 8\n",
      "3 3 3 4\n",
      "3\n"
     ]
    }
   ],
   "source": [
    "#2중 반복문 구조를 통한 예시\n",
    "\n",
    "#N,M 공백으로 구분해 입력받기\n",
    "n,m = map(int,input().split())\n",
    "\n",
    "result = 0\n",
    "#한줄씩 입력\n",
    "for i in range(n):\n",
    "    data = list(map(int,input().split()))\n",
    "    #현재 줄에서 가장 작은 수 찾기\n",
    "    min_value = 10001\n",
    "    for a in data:\n",
    "        min_value = min(min_value,a)\n",
    "        \n",
    "    #가장 작은 수들 중에서 가장 큰 수 찾기\n",
    "    result = max(result,min_value)\n",
    "    \n",
    "print(result)"
   ]
  },
  {
   "cell_type": "markdown",
   "id": "ea27a60b",
   "metadata": {},
   "source": [
    "## <4> 1이 될 때 까지"
   ]
  },
  {
   "cell_type": "markdown",
   "id": "d153d427",
   "metadata": {},
   "source": [
    "어떤 수 N이 1이 될 때 까지 다음 과정을 반복한다. N이 K로 나눠지면 2를 선택한다.\n",
    "1. N에서 1을 뺀다\n",
    "2. N을 K로 나눈다"
   ]
  },
  {
   "cell_type": "markdown",
   "id": "8c26d906",
   "metadata": {},
   "source": [
    "---\n",
    "ex) N = 17, K = 4\n",
    "- 첫번째 수행 : 16\n",
    "- 두번째 수행 : 4\n",
    "- 세번째 수행 : 1<br><br>\n",
    "N=17,K=4일때 해답은 3이다\n",
    "---"
   ]
  },
  {
   "cell_type": "markdown",
   "id": "46708b95",
   "metadata": {},
   "source": [
    "입력조건 : \n",
    "- 첫째 줄에  N(2 $\\leq$N$\\leq$ 100,000)과 K(2 $\\leq$ K $\\leq$ 100,000)가 공백으로 구분되며 각각 자연수로 주어짐. N은 K보다 크거나 같음\n",
    "\n",
    "출력조건 :\n",
    "- 첫째 줄에 N이 1이 될 때까지 1번 혹은 2번의 과정을 구행햐아 하는 횟수의 최솟값을 출력\n",
    "\n",
    "입력 예시 :\n",
    "25 5<br>\n",
    "출력 예시 :\n",
    "2"
   ]
  },
  {
   "cell_type": "code",
   "execution_count": 7,
   "id": "dbafbfd8",
   "metadata": {},
   "outputs": [
    {
     "name": "stdout",
     "output_type": "stream",
     "text": [
      "40 7\n",
      "10\n"
     ]
    }
   ],
   "source": [
    "n,k = map(int,input().split())\n",
    "result = 0\n",
    "\n",
    "#N이 K이상이면 K로 계속 나누기\n",
    "while n>= k:\n",
    "    #n이 k로 안나눠지면 1씩 빼기\n",
    "    while n%k != 0:\n",
    "        n -= 1\n",
    "        result += 1\n",
    "    #k로 나누기\n",
    "    n //= k\n",
    "    result += 1\n",
    "    #이 과정이 다 끝나면 n이 k보다 작아짐\n",
    "    \n",
    "while n>1:\n",
    "    n -= 1\n",
    "    result += 1\n",
    "    \n",
    "print(result)"
   ]
  },
  {
   "cell_type": "code",
   "execution_count": 8,
   "id": "f28801ee",
   "metadata": {},
   "outputs": [
    {
     "name": "stdout",
     "output_type": "stream",
     "text": [
      "100000000 9\n",
      "39\n"
     ]
    }
   ],
   "source": [
    "n,k = map(int,input().split())\n",
    "result = 0\n",
    "\n",
    "while True:\n",
    "    #(N==K로 나누어 떨어지는 수)가 될때까지 1 씩 빼기\n",
    "    target = (n//k) * k\n",
    "    result += (n- target)\n",
    "    n = target\n",
    "    #N이 K보다 작을 때(더 이상 나눌 수 없을 때) 반복문 탈출\n",
    "    if n<k:\n",
    "        break\n",
    "    #K로 나누기\n",
    "    result += 1\n",
    "    n //= k\n",
    "    \n",
    "#마지막 남은 수 1씩 빼기\n",
    "result += (n-1)\n",
    "print(result)"
   ]
  }
 ],
 "metadata": {
  "kernelspec": {
   "display_name": "Python 3 (ipykernel)",
   "language": "python",
   "name": "python3"
  },
  "language_info": {
   "codemirror_mode": {
    "name": "ipython",
    "version": 3
   },
   "file_extension": ".py",
   "mimetype": "text/x-python",
   "name": "python",
   "nbconvert_exporter": "python",
   "pygments_lexer": "ipython3",
   "version": "3.9.7"
  }
 },
 "nbformat": 4,
 "nbformat_minor": 5
}
