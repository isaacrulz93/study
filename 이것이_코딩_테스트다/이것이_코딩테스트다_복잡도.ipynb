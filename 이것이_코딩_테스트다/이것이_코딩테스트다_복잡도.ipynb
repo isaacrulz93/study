{
 "cells": [
  {
   "cell_type": "markdown",
   "id": "017d2b25",
   "metadata": {},
   "source": [
    "<h3>복잡도</h3><br>\n",
    "알고리즘의 성능을 나타내는 척도로, 시간복잡도와 공간복잡도로 나뉜다\n",
    "<br><br>\n",
    "-<b>시간복잡도</b>\n",
    ": 특정한 크기의 입력에 대하여 알고리즘이 얼마나 \"오래 걸리는지?\" - 연산의 횟수\n",
    "\n",
    "-<b>공간복잡도</b>\n",
    ": 특정한 크기의 입력에 대하여 알고리즘이 얼마나 \"많은 메모리를 차지하는지?\" - 연산의 양\n",
    "\n",
    "둘 사이에는 trade-off가 존재하기 때문에, 적당히 타협해야한다. \n",
    "\n",
    "---"
   ]
  },
  {
   "cell_type": "markdown",
   "id": "3e578e2b",
   "metadata": {},
   "source": [
    "알고리즘의 복잡도를 측정하는 단위로는 빅$O$표기법을 쓴다.<br>\n",
    "빅$O$표기법의 종류는 다음과 같다<br>\n",
    "\n",
    "\n",
    "빅$O$ 표기법<br>\n",
    "\n",
    "&nbsp;&nbsp;&nbsp;&nbsp;&nbsp;&nbsp;&nbsp;&nbsp;&nbsp;&nbsp;$O(1)$ : 상수시간/ Constant Time<br>\n",
    "&nbsp;&nbsp;&nbsp;&nbsp;&nbsp;&nbsp;&nbsp;&nbsp;&nbsp;&nbsp;$O(logN)$ : 로그시간/ Log time<br>\n",
    "&nbsp;&nbsp;&nbsp;&nbsp;&nbsp;&nbsp;&nbsp;&nbsp;&nbsp;&nbsp;$O(N)$ : 선형시간<br>\n",
    "&nbsp;&nbsp;&nbsp;&nbsp;&nbsp;&nbsp;&nbsp;&nbsp;&nbsp;&nbsp;$O(NlogN)$ : 로그선형시간<br>\n",
    "&nbsp;&nbsp;&nbsp;&nbsp;&nbsp;&nbsp;&nbsp;&nbsp;&nbsp;&nbsp;$O(N^2)$ : 이차시간<br>\n",
    "&nbsp;&nbsp;&nbsp;&nbsp;&nbsp;&nbsp;&nbsp;&nbsp;&nbsp;&nbsp;$O(N^3)$ : 삼차시간<br>\n",
    "&nbsp;&nbsp;&nbsp;&nbsp;&nbsp;&nbsp;&nbsp;&nbsp;&nbsp;&nbsp;$O(2^n)$ : 지수시간<br>\n",
    "\n",
    "---"
   ]
  },
  {
   "cell_type": "markdown",
   "id": "da198e3b",
   "metadata": {},
   "source": [
    "## 시간복잡도"
   ]
  },
  {
   "cell_type": "markdown",
   "id": "54a43e2e",
   "metadata": {},
   "source": [
    "아래 예제의 경우,<br><br>\n",
    "1.array에 값을 입력<br>\n",
    "2.summary에 값을 입력<br>\n",
    "3.5개의 데이터(N=5)를 받아, 차례대로 5회 더해준다.(#이때의 연산 횟수는 N에 비례)<br> \n",
    "4.결과를 출력한다<br><br>\n",
    "이때, 가장 영향력이 큰 부분은 N에 비례하는 부분이므로, 시간복잡도는 $O(N)$이라고 표기한다.(N이 커질수록 다른 연산들은 비중이 작아진다)"
   ]
  },
  {
   "cell_type": "code",
   "execution_count": 1,
   "id": "0ca9acf3",
   "metadata": {},
   "outputs": [
    {
     "name": "stdout",
     "output_type": "stream",
     "text": [
      "15\n"
     ]
    }
   ],
   "source": [
    "#예제1\n",
    "\n",
    "array = [3,5,1,2,4] #5개 데이터\n",
    "summary = 0\n",
    "\n",
    "for x in array: #5회의 연산\n",
    "    summary += x\n",
    "    \n",
    "print(summary)"
   ]
  },
  {
   "cell_type": "markdown",
   "id": "d526409e",
   "metadata": {},
   "source": [
    "아래의 경우는, 더하기 연산 한번만 하므로(상수연산) 시간복잡도는 $O(1)$이다"
   ]
  },
  {
   "cell_type": "code",
   "execution_count": 2,
   "id": "9844257d",
   "metadata": {},
   "outputs": [
    {
     "name": "stdout",
     "output_type": "stream",
     "text": [
      "12\n"
     ]
    }
   ],
   "source": [
    "#예제2\n",
    "\n",
    "a= 5\n",
    "b = 7\n",
    "print(a+b)"
   ]
  },
  {
   "cell_type": "code",
   "execution_count": 3,
   "id": "fac5d8b5",
   "metadata": {
    "scrolled": true
   },
   "outputs": [
    {
     "name": "stdout",
     "output_type": "stream",
     "text": [
      "9\n",
      "15\n",
      "3\n",
      "6\n",
      "12\n",
      "15\n",
      "25\n",
      "5\n",
      "10\n",
      "20\n",
      "3\n",
      "5\n",
      "1\n",
      "2\n",
      "4\n",
      "6\n",
      "10\n",
      "2\n",
      "4\n",
      "8\n",
      "12\n",
      "20\n",
      "4\n",
      "8\n",
      "16\n"
     ]
    }
   ],
   "source": [
    "#예제3\n",
    "\n",
    "array = [3,5,1,2,4]\n",
    "\n",
    "for i in array:\n",
    "    for j in array:\n",
    "        temp = i * j\n",
    "        print(temp)"
   ]
  },
  {
   "cell_type": "markdown",
   "id": "7f0e3109",
   "metadata": {},
   "source": [
    "위의 경우는, $O(N^2)$의 복잡도를 갖는다 (for 문의 2중반복)<br>\n",
    "하지만, 대부적으로 다른 함수를 사용할 경우도 있기 때문에, 2중 반복문이라고 무조건 $O(N^2)$의 복잡도가 나오는것이 아니다."
   ]
  },
  {
   "cell_type": "markdown",
   "id": "b91a7490",
   "metadata": {},
   "source": [
    "## 공간복잡도"
   ]
  },
  {
   "cell_type": "markdown",
   "id": "87cbd764",
   "metadata": {},
   "source": [
    "공간복잡도 또한 빅O표기법을 이용한다.<br>\n",
    "하지만, 시간복잡도가 중요하게 여기는것이 \"시간\"이였다면,<br>\n",
    "공간복잡도는 \"메모리의 용량\"을 중요하게 여긴다."
   ]
  },
  {
   "cell_type": "markdown",
   "id": "327c9c87",
   "metadata": {},
   "source": [
    "#예시로,\n",
    "\n",
    "int a[1000] :4kb<br>\n",
    "int a[1000000] :4mb<br>\n",
    "int a[2000][2000] :16mb<br>\n",
    "\n",
    "로 볼 수 있다."
   ]
  },
  {
   "cell_type": "markdown",
   "id": "c5223f45",
   "metadata": {},
   "source": [
    "## 시간을 측정하는 방법"
   ]
  },
  {
   "cell_type": "markdown",
   "id": "4f479969",
   "metadata": {},
   "source": [
    "시간을 측정하는게 알고리즘의 효율성을 측정하는 가장 기본적인 방법이며,<br>\n",
    "알고리즘을 설계한뒤 시간복잡도를 확인하거나 증명하고 싶을때는 아래와 같은 형태를 이용한다"
   ]
  },
  {
   "cell_type": "code",
   "execution_count": 12,
   "id": "5c9484e5",
   "metadata": {},
   "outputs": [
    {
     "name": "stdout",
     "output_type": "stream",
     "text": [
      "time : 0.0\n"
     ]
    }
   ],
   "source": [
    "import time\n",
    "start_time = time.time() #측정 시작 시간\n",
    "\n",
    "\"\"\"\n",
    "# 실행할 코드\n",
    "\n",
    "\"\"\"\n",
    "end_time = time.time() #측정 종료 시간\n",
    "print(\"time :\",end_time - start_time)"
   ]
  },
  {
   "cell_type": "markdown",
   "id": "6ddf742c",
   "metadata": {},
   "source": [
    "#### 선택 정렬과 기본 정렬 라이브러리의 수행시간 비교"
   ]
  },
  {
   "cell_type": "code",
   "execution_count": 17,
   "id": "6aea0fa3",
   "metadata": {},
   "outputs": [
    {
     "name": "stdout",
     "output_type": "stream",
     "text": [
      "선택 정렬 성능 측정 :  7.695008754730225\n"
     ]
    }
   ],
   "source": [
    "#선택정렬\n",
    "\n",
    "from random import randint\n",
    "import time\n",
    "\n",
    "#1~100사이의 숫자 10,000개의 정수로 이루어진 배열\n",
    "array = []\n",
    "for _ in range(10000):\n",
    "    array.append(randint(1,100)) \n",
    "    \n",
    "\n",
    "#성능측정 시작\n",
    "start_time = time.time()\n",
    "\n",
    "#선택정렬 코드\n",
    "for i in range(len(array)):\n",
    "    # 가장 작은 원소의 인덱스 찾기\n",
    "    min_index = i\n",
    "    for j in range(i + 1, len(array)):\n",
    "        if array[min_index] > array[j]:\n",
    "            min_index = j\n",
    "    \n",
    "    #자리 교환        \n",
    "    array[i], array[min_index] = array[min_index],array[i]\n",
    "    \n",
    "end_time = time.time()\n",
    "print(\"선택 정렬 성능 측정 : \",end_time - start_time) #수행시간 출력"
   ]
  },
  {
   "cell_type": "code",
   "execution_count": 15,
   "id": "7ecd8e1e",
   "metadata": {},
   "outputs": [],
   "source": [
    "#배열 다시 리셋\n",
    "array = []\n",
    "for _ in range(10000):\n",
    "    array.append(randint(1,100))"
   ]
  },
  {
   "cell_type": "code",
   "execution_count": 16,
   "id": "3621b143",
   "metadata": {},
   "outputs": [
    {
     "name": "stdout",
     "output_type": "stream",
     "text": [
      "기본 정렬 성능 측정 :  0.000997781753540039\n"
     ]
    }
   ],
   "source": [
    "#기본 정렬 라이브러리\n",
    "start_time = time.time()\n",
    "\n",
    "array.sort()\n",
    "\n",
    "end_time = time.time()\n",
    "print(\"기본 정렬 성능 측정 : \",end_time - start_time) #수행시간 출력"
   ]
  },
  {
   "cell_type": "markdown",
   "id": "83a1b9e1",
   "metadata": {},
   "source": [
    "시간차이가 많이 나는것을 확인 할 수 있다. 이렇듯 알고리즘을 잘 짜는건 중요하다!"
   ]
  }
 ],
 "metadata": {
  "kernelspec": {
   "display_name": "Python 3 (ipykernel)",
   "language": "python",
   "name": "python3"
  },
  "language_info": {
   "codemirror_mode": {
    "name": "ipython",
    "version": 3
   },
   "file_extension": ".py",
   "mimetype": "text/x-python",
   "name": "python",
   "nbconvert_exporter": "python",
   "pygments_lexer": "ipython3",
   "version": "3.9.7"
  }
 },
 "nbformat": 4,
 "nbformat_minor": 5
}
