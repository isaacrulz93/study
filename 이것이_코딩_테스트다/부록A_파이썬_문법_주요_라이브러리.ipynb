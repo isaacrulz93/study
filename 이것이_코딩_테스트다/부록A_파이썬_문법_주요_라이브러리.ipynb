{
 "cells": [
  {
   "cell_type": "markdown",
   "id": "154d8072",
   "metadata": {},
   "source": [
    "# 주요 라이브러리"
   ]
  },
  {
   "cell_type": "markdown",
   "id": "feb3f34f",
   "metadata": {},
   "source": [
    "- <b>내장함수</b> : print(), input()과 같은 기본 입출력부터 sorted()와 같은 정렬기능을 포함하는 기본 라이브러리\n",
    "- <b>itertools</b> : 파이썬에서 반복되는 데이터를 처리하는 기능을 갖는 라이브러리 > 순열과 조합 라이브러리가 있음\n",
    "- <b>heapq</b> : 힙(Heap)을 제공하는 라이브러리. 우선순위 큐 기능 구현시 사용\n",
    "- <b>bisect</b> : 이진탐색(Binary Search)기능을 제공하는 라이브러리\n",
    "- <b>collections</b> : 덱(deque), 카운터(Counter) 등의 자료구조를 포함한 라이브러리\n",
    "- <b>math</b> : 수학기능 라이브러리. 팩토리얼, 제곱근, 최대공약수(GCD), 삼각함수등의 기능을 제공"
   ]
  },
  {
   "cell_type": "markdown",
   "id": "79d0e69b",
   "metadata": {},
   "source": [
    "### 내장함수\n",
    "\n",
    "import 없이 이용 가능\n",
    "\n",
    "- sum() : iterable 객체를 받고 원소 합을 출력 (iterable : 리스트, 딕셔너리, 튜플등을 의미)\n",
    "\n",
    "- max() : 파라미터가 2개 이상일때 최댓값 반환\n",
    "\n",
    "- eval() : 수학 수식이 문자열 형태로 들어오면 해당 수식을 계산한 결과를 반환\n",
    "\n",
    "- sorted(), sorted( * , reverse = True) : iterable 객체가 들어올때, 정렬된 결과를 반환. key를 기준으로 정렬. reverse를 통해 역순 가능"
   ]
  },
  {
   "cell_type": "markdown",
   "id": "a0fabf7b",
   "metadata": {},
   "source": [
    "### itertools\n",
    "가장 많이 사용하는건 permutaions, combinations<br>\n",
    "<b>premutations</b>는 iterable객체에서 r개의 데이터를 뽑아 나열하는 모든경우를 계산해준다(순열)<br>\n",
    "<b>combinations</b>는 iterable객체에서 r개의 데이터를 뽑아 순서를 고열하지 않고 나열하는 경우(조합)<br>\n",
    "<b>product</b>는 iterable한 객체에서 <b>중복가능한</b> r개의 데이터를 뽑아 나열하는 모든 경우를 계산해준다(중복순열)<br>\n",
    "<b>combinations_with)replacement</b>는 iterable객체에서 <b>중복가능한</b> r개의 데이터를 뽑아 순서를 고열하지 않고 나열하는 경우(중복조합)"
   ]
  },
  {
   "cell_type": "code",
   "execution_count": 6,
   "id": "c7b23a05",
   "metadata": {},
   "outputs": [
    {
     "name": "stdout",
     "output_type": "stream",
     "text": [
      "순열 예시\n",
      "[('A', 'B', 'C'), ('A', 'C', 'B'), ('B', 'A', 'C'), ('B', 'C', 'A'), ('C', 'A', 'B'), ('C', 'B', 'A')]\n",
      "---\n",
      "조합 예시\n",
      "[('A', 'B'), ('A', 'C'), ('B', 'C')]\n",
      "---\n",
      "중복순열 예시\n",
      "[('A', 'A'), ('A', 'B'), ('A', 'C'), ('B', 'A'), ('B', 'B'), ('B', 'C'), ('C', 'A'), ('C', 'B'), ('C', 'C')]\n",
      "---\n",
      "중복조합 예시\n",
      "[('A', 'A'), ('A', 'B'), ('A', 'C'), ('B', 'B'), ('B', 'C'), ('C', 'C')]\n",
      "---\n"
     ]
    }
   ],
   "source": [
    "#사용 예시\n",
    "from itertools import permutations, combinations, product, combinations_with_replacement\n",
    "data = ['A','B','C']\n",
    "\n",
    "result = list(permutations(data,3))\n",
    "print(\"순열 예시\")\n",
    "print(result)\n",
    "print('---')\n",
    "\n",
    "result = list(combinations(data,2))\n",
    "print(\"조합 예시\")\n",
    "print(result)\n",
    "print('---')\n",
    "\n",
    "result = list(product(data,repeat = 2))\n",
    "print(\"중복순열 예시\")\n",
    "print(result)\n",
    "print('---')\n",
    "\n",
    "result = list(combinations_with_replacement(data,2))\n",
    "print(\"중복조합 예시\")\n",
    "print(result)\n",
    "print('---')"
   ]
  },
  {
   "cell_type": "markdown",
   "id": "99a323c9",
   "metadata": {},
   "source": [
    "### heapq\n",
    "\n",
    "힙(Heap)기능을 위한 라이브러리.<br>\n",
    "다익스트라 최단경로 알고리즘을 포함해 다양한 알고리즘에서 우선순위 큐 기능을 구현하고자 할 때 사용된다.<br>\n",
    "파이썬의 힙은 최소 힙으로 구성되어 있으므로, 원소를 힙에 넣었다 빼는 것 만으로도 시간복잡도 $O(NlogN)$에 오름차순 정렬을 할 수 있다.<br>\n",
    "(최소 힙 자료구조의 최상단 원소는 '가장 작은' 원소이기 때문 : 파이썬은 최대힙을 제공하지 않는데, 이때는 음의 부호(-)를 붙여서 해결 가능)<br>\n",
    "\n",
    "힙에 원소를 삽입할 때 : heapq.heappush()<br>\n",
    "힙에서 원소를 꺼낼 때 : heapq.heappop()<br>\n",
    "\n",
    "을 이용한다"
   ]
  },
  {
   "cell_type": "code",
   "execution_count": 7,
   "id": "87287a76",
   "metadata": {},
   "outputs": [
    {
     "name": "stdout",
     "output_type": "stream",
     "text": [
      "[0, 1, 1, 2, 3, 4, 4, 5, 6, 7, 9]\n"
     ]
    }
   ],
   "source": [
    "#힙 정렬 예제 - 최소힙\n",
    "import heapq\n",
    "\n",
    "def heapsort(iterable):\n",
    "    h = []\n",
    "    result = []\n",
    "    #원소를 힙에 삽입\n",
    "    for value in iterable:\n",
    "        heapq.heappush(h,value)\n",
    "        \n",
    "    #힙의 원소를 차례로 꺼내서 담기\n",
    "    for _ in range(len(h)):\n",
    "        result.append(heapq.heappop(h))\n",
    "    return result\n",
    "\n",
    "result = heapsort([1,3,5,7,9,2,4,6,4,1,0])\n",
    "print(result)"
   ]
  },
  {
   "cell_type": "code",
   "execution_count": 8,
   "id": "51b3b600",
   "metadata": {},
   "outputs": [
    {
     "name": "stdout",
     "output_type": "stream",
     "text": [
      "[9, 7, 6, 5, 4, 4, 3, 2, 1, 1, 0]\n"
     ]
    }
   ],
   "source": [
    "#힙 정렬 예제 - 최대힙\n",
    "\n",
    "import heapq\n",
    "\n",
    "def heapsort(iterable):\n",
    "    h = []\n",
    "    result =[]\n",
    "    #모든 원소를 힙에 삽입\n",
    "    for value in iterable:\n",
    "        heapq.heappush(h,-value)\n",
    "        \n",
    "    for _ in range(len(h)):\n",
    "        result.append(-heapq.heappop(h))\n",
    "        \n",
    "    return result\n",
    "\n",
    "result = heapsort([1,3,5,7,9,2,4,6,4,1,0])\n",
    "print(result)"
   ]
  },
  {
   "cell_type": "markdown",
   "id": "b461fb42",
   "metadata": {},
   "source": [
    "### bisect\n",
    "\n",
    "이진 탐색을 쉽게 할 수 있도록 제공하는 라이브러리.<br>\n",
    "<b>정렬된 배열</b>에서 특정한 원소를 찾아야 할 때 매우 효과적.<br>\n",
    "bisect_left()와 bisect_right() 함수가 있으며,<br>\n",
    "이 두 함수의 시간복잡도는 $O(logN)$에 동작한다.\n",
    "\n",
    "- bisect_left(a,x) : 정렬된 순서를 유지하면서 리스트 a에 데이터 x를 삽입할 가장 왼쪽 인덱스를 찾는 방법\n",
    "- bisect_right(a,x) : 정렬된 순서를 유지하면서 리스트 a에 데이터 x를 삽입할 가장 오른쪽 인덱스를 찾는 방법"
   ]
  },
  {
   "cell_type": "markdown",
   "id": "b9859330",
   "metadata": {},
   "source": [
    "예를 들면, 정렬된 리스트 [1,2,4,4,8]이 있을때, 여기에 4 라는 데이터를 추가로 삽입하려 하면,<br>\n",
    "bisect_left(a,4) = 2<br>\n",
    "bisect_right(a,4) = 4<br>\n",
    "를 반환한다."
   ]
  },
  {
   "cell_type": "code",
   "execution_count": 9,
   "id": "a3083980",
   "metadata": {},
   "outputs": [
    {
     "name": "stdout",
     "output_type": "stream",
     "text": [
      "2\n",
      "4\n"
     ]
    }
   ],
   "source": [
    "from bisect import bisect_left, bisect_right\n",
    "\n",
    "a = [1,2,4,4,8]\n",
    "x = 4\n",
    "\n",
    "print(bisect_left(a,4))\n",
    "print(bisect_right(a,4))"
   ]
  },
  {
   "cell_type": "markdown",
   "id": "aa78d721",
   "metadata": {},
   "source": [
    "원소의 값이 x일 때, a<x<b 인 원소의 개수를 $O(logN)$으로 빠르게 계산 할 수 도 있다."
   ]
  },
  {
   "cell_type": "code",
   "execution_count": 10,
   "id": "7c369f35",
   "metadata": {},
   "outputs": [
    {
     "name": "stdout",
     "output_type": "stream",
     "text": [
      "2\n",
      "6\n"
     ]
    }
   ],
   "source": [
    "from bisect import bisect_left, bisect_right\n",
    "\n",
    "# 값이 [left_value, right_value]인 데이터의 개수를 반환하는 함수\n",
    "def count_by_range(a, left_value,right_value):\n",
    "    right_index = bisect_right(a, right_value)\n",
    "    left_index = bisect_left(a, left_value)\n",
    "    return right_index - left_index\n",
    "\n",
    "#리스트 선언\n",
    "a = [1,2,3,3,3,3,4,4,8,9]\n",
    "\n",
    "# 값이 4인 데이터 개수 출력\n",
    "print(count_by_range(a,4,4))\n",
    "\n",
    "#값이 [-1~3] 범위에 있는 데이터 출력\n",
    "print(count_by_range(a,-1,3))"
   ]
  },
  {
   "cell_type": "markdown",
   "id": "7ac76677",
   "metadata": {},
   "source": [
    "### collections\n",
    "\n",
    "자료구조를 제공하는 라이브러리. 코테에서 쓰는건 deque와 Counter."
   ]
  },
  {
   "cell_type": "markdown",
   "id": "5a82185a",
   "metadata": {},
   "source": [
    "#### deque\n",
    "\n",
    "파이썬에선 deque를 사용해 큐를 구현한다.<br>\n",
    "기존 리스트 자료형에서 사용하는 append(), pop()은 <b>가장 뒤쪽 원소</b>를 기준으로 실행한다. - 앞에 있는 원소를 처리하기 위해선 시간이 오래 걸림<br>"
   ]
  },
  {
   "cell_type": "markdown",
   "id": "ae536310",
   "metadata": {},
   "source": [
    "리스트와 deque의 복잡도를 비교해보면 다음과 같다\n",
    "\n",
    "<table align = 'left'>\n",
    "    <th></th>\n",
    "    <th>리스트</th>\n",
    "    <th>deque</th>\n",
    "    <tr>\n",
    "        <td>가장 앞쪽에 원소 추가</td>\n",
    "        <td>$O(N)$</td>\n",
    "        <td>$O(1)$</td>\n",
    "    </tr>\n",
    "    <tr>\n",
    "        <td>가장 뒤쪽에 원소 추가</td>\n",
    "        <td>$O(1)$</td>\n",
    "        <td>$O(1)$</td>\n",
    "    </tr>\n",
    "    <tr>\n",
    "        <td>가장 앞쪽에 원소 제거</td>\n",
    "        <td>$O(N)$</td>\n",
    "        <td>$O(1)$</td>\n",
    "    </tr>\n",
    "    <tr>\n",
    "        <td>가장 뒤쪽에 원소 제거</td>\n",
    "        <td>$O(1)$</td>\n",
    "        <td>$O(1)$</td>\n",
    "    </tr>\n",
    "</table>"
   ]
  },
  {
   "cell_type": "markdown",
   "id": "58fb61b6",
   "metadata": {},
   "source": [
    "deque에선 인덱싱, 슬라이시은 할 수없다. - 데이터의 삽입/삭제에만 효과적<br>\n",
    "deque는 스택이나 큐의 기능을 모두 포함해서 스택이나 큐 자료구조의 대용으로 사용 될 수 있다.<br>\n",
    "\n",
    "- 첫번째 원소를 제거할 때 <b>popleft()</b>를 이용. 마지막 원소를 제거할 때 <b>pop</b>을 이용\n",
    "- 첫번쨰 인덱스에 원소를 삽입 할 때 <b>appendleft(x)를 이용. 마지막 인덱스에 원소를 삽입할 때 <b>append(x)</b> 사용\n",
    "    \n",
    "-- deque를 큐 자료구조로 이용하려면, 삽입은 append()로 하고 삭제는 popleft()를 이용하면 먼저들어온 원소가 먼저 나가게 만들 수 있다"
   ]
  },
  {
   "cell_type": "code",
   "execution_count": 12,
   "id": "0f9139ec",
   "metadata": {},
   "outputs": [
    {
     "name": "stdout",
     "output_type": "stream",
     "text": [
      "deque([1, 2, 3, 4, 5])\n",
      "[1, 2, 3, 4, 5]\n"
     ]
    }
   ],
   "source": [
    "#사용법\n",
    "\n",
    "from collections import deque\n",
    "\n",
    "data = deque([2,3,4])\n",
    "data.appendleft(1)\n",
    "data.append(5)\n",
    "\n",
    "print(data)\n",
    "#리스트 구조로 변환\n",
    "print(list(data)) "
   ]
  },
  {
   "cell_type": "markdown",
   "id": "90ef73b7",
   "metadata": {},
   "source": [
    "#### Collections\n",
    "\n",
    "등장 횟수를 세는 기능을 한다. iterable한 객체가 주어질 때, 해당 객체가 몇번씩 등장했는지 셀 수 있다."
   ]
  },
  {
   "cell_type": "code",
   "execution_count": 13,
   "id": "d7113c67",
   "metadata": {},
   "outputs": [
    {
     "name": "stdout",
     "output_type": "stream",
     "text": [
      "3\n",
      "1\n",
      "{'red': 2, 'blue': 3, 'green': 1}\n"
     ]
    }
   ],
   "source": [
    "from collections import Counter\n",
    "\n",
    "counter = Counter(['red', 'blue', 'red', 'green', 'blue', 'blue'])\n",
    "\n",
    "print(counter['blue'])\n",
    "print(counter['green'])\n",
    "print(dict(counter))"
   ]
  },
  {
   "cell_type": "markdown",
   "id": "43e035c7",
   "metadata": {},
   "source": [
    "###  math\n",
    "\n",
    "수학적인 기능들을 포함한 라이브러리"
   ]
  },
  {
   "cell_type": "code",
   "execution_count": 14,
   "id": "1028334c",
   "metadata": {},
   "outputs": [
    {
     "name": "stdout",
     "output_type": "stream",
     "text": [
      "120\n",
      "2.6457513110645907\n",
      "7\n",
      "3.141592653589793\n",
      "2.718281828459045\n"
     ]
    }
   ],
   "source": [
    "import math\n",
    "\n",
    "#팩토리얼\n",
    "print(math.factorial(5))\n",
    "#제곱근\n",
    "print(math.sqrt(7))\n",
    "#최대공약수\n",
    "print(math.gcd(21,14))\n",
    "#파이,e\n",
    "print(math.pi)\n",
    "print(math.e)"
   ]
  }
 ],
 "metadata": {
  "kernelspec": {
   "display_name": "Python 3 (ipykernel)",
   "language": "python",
   "name": "python3"
  },
  "language_info": {
   "codemirror_mode": {
    "name": "ipython",
    "version": 3
   },
   "file_extension": ".py",
   "mimetype": "text/x-python",
   "name": "python",
   "nbconvert_exporter": "python",
   "pygments_lexer": "ipython3",
   "version": "3.9.7"
  }
 },
 "nbformat": 4,
 "nbformat_minor": 5
}
